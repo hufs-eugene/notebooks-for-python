{
  "nbformat": 4,
  "nbformat_minor": 0,
  "metadata": {
    "colab": {
      "name": "챕터6.ipynb",
      "provenance": [],
      "collapsed_sections": [],
      "authorship_tag": "ABX9TyNvMjKEfEMcw02JX1CPP/7y",
      "include_colab_link": true
    },
    "kernelspec": {
      "name": "python3",
      "display_name": "Python 3"
    },
    "language_info": {
      "name": "python"
    }
  },
  "cells": [
    {
      "cell_type": "markdown",
      "metadata": {
        "id": "view-in-github",
        "colab_type": "text"
      },
      "source": [
        "<a href=\"https://colab.research.google.com/github/hufs-eugene/notebooks-for-python/blob/main/%EC%B1%95%ED%84%B06.ipynb\" target=\"_parent\"><img src=\"https://colab.research.google.com/assets/colab-badge.svg\" alt=\"Open In Colab\"/></a>"
      ]
    },
    {
      "cell_type": "markdown",
      "source": [
        "###if(분기)"
      ],
      "metadata": {
        "id": "XbQhxiuYUHnW"
      }
    },
    {
      "cell_type": "code",
      "source": [
        "weather = \"비\"\n",
        "#if 조건:\n",
        "#   실행 명령문\n",
        "if weather == \"비\":\n",
        "    print(\"우산을 챙기세요\")"
      ],
      "metadata": {
        "colab": {
          "base_uri": "https://localhost:8080/"
        },
        "id": "XwHzvrloUOGX",
        "outputId": "0b010d90-668d-48fc-abd4-0fd183206304"
      },
      "execution_count": null,
      "outputs": [
        {
          "output_type": "stream",
          "name": "stdout",
          "text": [
            "우산을 챙기세요\n"
          ]
        }
      ]
    },
    {
      "cell_type": "code",
      "source": [
        "weather = \"미세먼지\"\n",
        "if weather == \"비\":\n",
        "    print(\"우산을 챙기세요\")\n",
        "elif weather == \"미세먼지\":\n",
        "    print(\"마스크를 챙기세요\")"
      ],
      "metadata": {
        "colab": {
          "base_uri": "https://localhost:8080/"
        },
        "id": "cUGGaGTIVNUF",
        "outputId": "95f84dec-261d-4dc1-c8b7-fcf7e2294e2c"
      },
      "execution_count": null,
      "outputs": [
        {
          "output_type": "stream",
          "name": "stdout",
          "text": [
            "마스크를 챙기세요\n"
          ]
        }
      ]
    },
    {
      "cell_type": "code",
      "source": [
        "weather = \"맑음\"\n",
        "if weather == \"비\":\n",
        "    print(\"우산을 챙기세요\")\n",
        "elif weather == \"미세먼지\":\n",
        "    print(\"마스크를 챙기세요\")\n",
        "else:\n",
        "    print(\"준비물 필요 없어요\")\n",
        "#조건1: if, 조건2: elif 조건3: 두 경우가 다 아닐때 else"
      ],
      "metadata": {
        "colab": {
          "base_uri": "https://localhost:8080/"
        },
        "id": "DIU7UDGyVa75",
        "outputId": "04061205-026c-4873-ed8e-e989142cf90f"
      },
      "execution_count": null,
      "outputs": [
        {
          "output_type": "stream",
          "name": "stdout",
          "text": [
            "준비물 필요 없어요\n"
          ]
        }
      ]
    },
    {
      "cell_type": "code",
      "source": [
        "weather = input(\"오늘 날씨는 어때요? 1. 비 2. 미세먼지 3. 자유입력: \")\n",
        "if weather == \"비\" or weather == \"눈\": #경우가 둘 중 하나일때: or\n",
        "    print(\"우산을 챙기세요\")\n",
        "elif weather == \"미세먼지\":\n",
        "    print(\"마스크를 챙기세요\")\n",
        "else:\n",
        "    print(\"준비물 필요 없어요\")"
      ],
      "metadata": {
        "colab": {
          "base_uri": "https://localhost:8080/"
        },
        "id": "7z4s-HfeVz8Q",
        "outputId": "aa4d3e39-e701-48e7-e52b-7333d597ffdb"
      },
      "execution_count": null,
      "outputs": [
        {
          "output_type": "stream",
          "name": "stdout",
          "text": [
            "오늘 날씨는 어때요? 1. 비 2. 미세먼지 3. 자유입력: 눈\n",
            "우산을 챙기세요\n"
          ]
        }
      ]
    },
    {
      "cell_type": "code",
      "source": [
        "temp = int(input(\"기온은 어때요?: \"))\n",
        "if 30 < temp:\n",
        "      print(\"너무 더워요. 나가지 마세요\")\n",
        "elif 10 <=temp and temp < 30: #경우가 두가지 충족일때: and\n",
        "      print(\"괜찮은 날씨네요\")\n",
        "elif 0 <= temp < 10:\n",
        "      print(\"외투를 챙기세요\")\n",
        "else:\n",
        "      print(\"너무 추워요. 나가지 마세요\")"
      ],
      "metadata": {
        "colab": {
          "base_uri": "https://localhost:8080/"
        },
        "id": "GXqUXhjtWSGR",
        "outputId": "5d5bbf74-7e2c-4a4e-f580-2c91eb2e8f1d"
      },
      "execution_count": null,
      "outputs": [
        {
          "output_type": "stream",
          "name": "stdout",
          "text": [
            "기온은 어때요?: 56\n",
            "너무 더워요. 나가지 마세요\n"
          ]
        }
      ]
    },
    {
      "cell_type": "markdown",
      "source": [
        "### for(반복문)"
      ],
      "metadata": {
        "id": "TdNNiD_5XMT6"
      }
    },
    {
      "cell_type": "code",
      "source": [
        "print(\"대기번호 : 1\")\n",
        "print(\"대기번호 : 2\")\n",
        "print(\"대기번호 : 3\")\n",
        "print(\"대기번호 : 4\")\n",
        "#... 1000번까지는 어떻게?"
      ],
      "metadata": {
        "id": "BMW1lr8wXN7-"
      },
      "execution_count": null,
      "outputs": []
    },
    {
      "cell_type": "code",
      "source": [
        "for waiting_no in [0, 1, 2, 3, 4]: #리스트 내에 있는 값들을 돌아가면서 출력\n",
        "    print(\"대기번호 : {0}\".format(waiting_no))"
      ],
      "metadata": {
        "colab": {
          "base_uri": "https://localhost:8080/"
        },
        "id": "wMbtcT3pXqc9",
        "outputId": "6c7cd5cd-2b40-405e-f9f4-c6a8aa7b7479"
      },
      "execution_count": null,
      "outputs": [
        {
          "output_type": "stream",
          "name": "stdout",
          "text": [
            "대기번호 : 0\n",
            "대기번호 : 1\n",
            "대기번호 : 2\n",
            "대기번호 : 3\n",
            "대기번호 : 4\n"
          ]
        }
      ]
    },
    {
      "cell_type": "code",
      "source": [
        "#randrange\n",
        "for waiting_no in range(5): #0, 1, 2, 3, 4\n",
        "    print(\"대기번호 : {0}\".format(waiting_no))"
      ],
      "metadata": {
        "colab": {
          "base_uri": "https://localhost:8080/"
        },
        "id": "llf-nBvPYM0P",
        "outputId": "3ff329b1-5ded-4d7a-f2a4-60633e319944"
      },
      "execution_count": null,
      "outputs": [
        {
          "output_type": "stream",
          "name": "stdout",
          "text": [
            "대기번호 : 0\n",
            "대기번호 : 1\n",
            "대기번호 : 2\n",
            "대기번호 : 3\n",
            "대기번호 : 4\n"
          ]
        }
      ]
    },
    {
      "cell_type": "code",
      "source": [
        "for waiting_no in range(1, 6): #1, 2, 3, 4, 5\n",
        "    print(\"대기번호 : {0}\".format(waiting_no))"
      ],
      "metadata": {
        "colab": {
          "base_uri": "https://localhost:8080/"
        },
        "id": "DcyXOvrsYXed",
        "outputId": "6fca90cd-eb2e-419a-fb3a-b546ade697bc"
      },
      "execution_count": null,
      "outputs": [
        {
          "output_type": "stream",
          "name": "stdout",
          "text": [
            "대기번호 : 1\n",
            "대기번호 : 2\n",
            "대기번호 : 3\n",
            "대기번호 : 4\n",
            "대기번호 : 5\n"
          ]
        }
      ]
    },
    {
      "cell_type": "code",
      "source": [
        "starbucks = [\"아이언맨\", \"토르\", \"아이엠 구르트\"]\n",
        "for customer in starbucks:\n",
        "      print(\"{0}, 고객님~\" .format(customer))"
      ],
      "metadata": {
        "colab": {
          "base_uri": "https://localhost:8080/"
        },
        "id": "i5Nnf7joYhmj",
        "outputId": "ce9aa352-6cfe-48d6-faa0-1f0b9631fe37"
      },
      "execution_count": null,
      "outputs": [
        {
          "output_type": "stream",
          "name": "stdout",
          "text": [
            "아이언맨, 고객님~\n",
            "토르, 고객님~\n",
            "아이엠 구르트, 고객님~\n"
          ]
        }
      ]
    },
    {
      "cell_type": "markdown",
      "source": [
        "### while"
      ],
      "metadata": {
        "id": "UQYP88SsY-G-"
      }
    },
    {
      "cell_type": "markdown",
      "source": [
        "조건 만족할 때 까지 반복"
      ],
      "metadata": {
        "id": "hZzh1bt5_Rwa"
      }
    },
    {
      "cell_type": "code",
      "source": [
        "#손님 다섯번 불렀는데 안오면 버리는 정책\n",
        "customer = \"토르\"\n",
        "index = 5\n",
        "while index >= 1:\n",
        "    print(\"{0}, 커피가 준비 되었습니다. {1}번 남았어요.\". format(customer, index))\n",
        "    index -= 1\n",
        "    if index == 0:\n",
        "      print(\"커피는 폐기처분 되었습니다.\")"
      ],
      "metadata": {
        "colab": {
          "base_uri": "https://localhost:8080/"
        },
        "id": "YYLUN1raZam3",
        "outputId": "2c91c983-2e60-44a0-c323-0429b68e82d9"
      },
      "execution_count": null,
      "outputs": [
        {
          "output_type": "stream",
          "name": "stdout",
          "text": [
            "토르, 커피가 준비 되었습니다. 5번 남았어요.\n",
            "토르, 커피가 준비 되었습니다. 4번 남았어요.\n",
            "토르, 커피가 준비 되었습니다. 3번 남았어요.\n",
            "토르, 커피가 준비 되었습니다. 2번 남았어요.\n",
            "토르, 커피가 준비 되었습니다. 1번 남았어요.\n",
            "커피는 폐기처분 되었습니다.\n"
          ]
        }
      ]
    },
    {
      "cell_type": "code",
      "source": [
        "#무한루트\n",
        "customer = \"아이언맨\"\n",
        "index = 1\n",
        "while True: \n",
        "      print(\"{0}, 커피가 준비 되었습니다. 호출 {1}회.\" .format(customer, index))\n",
        "      index += 1"
      ],
      "metadata": {
        "id": "wFWQQTwpA1TT"
      },
      "execution_count": null,
      "outputs": []
    },
    {
      "cell_type": "code",
      "source": [
        "customer = \"토르\"\n",
        "person = \"unknown\"\n",
        "\n",
        "while person != customer :\n",
        "    print(\"{0}, 커피가 준비 되었습니다.\". format(customer))\n",
        "    person = input(\"이름이 어떻게 되세요?\")\n",
        "    "
      ],
      "metadata": {
        "colab": {
          "base_uri": "https://localhost:8080/"
        },
        "id": "p-ltNIaegWEE",
        "outputId": "e8736fb6-a247-4dc4-9b4f-d6abcc3e6a70"
      },
      "execution_count": null,
      "outputs": [
        {
          "name": "stdout",
          "output_type": "stream",
          "text": [
            "토르, 커피가 준비 되었습니다.\n",
            "이름이 어떻게 되세요?아이언맨\n",
            "토르, 커피가 준비 되었습니다.\n",
            "이름이 어떻게 되세요?토르\n"
          ]
        }
      ]
    },
    {
      "cell_type": "markdown",
      "source": [
        "### continue와 break"
      ],
      "metadata": {
        "id": "KIyuoU-o_1LL"
      }
    },
    {
      "cell_type": "code",
      "source": [
        "#출석번호에 따라 책 읽으라고 시킴\n",
        "absent = [2, 5] #결석\n",
        "#결석한 학생들은 넘어가고 다른 친구들에게 책 읽도록 하는 것이 continue의 역할\n",
        "for student in range(1,11): #1~10번\n",
        "  if student in absent:\n",
        "    continue\n",
        "  print(\"{0}, 책을 읽어봐.\" .format(student))"
      ],
      "metadata": {
        "id": "v7NvlWia__qQ"
      },
      "execution_count": null,
      "outputs": []
    },
    {
      "cell_type": "code",
      "source": [
        "#출석번호에 따라 책 읽으라고 시킴\n",
        "absent = [2, 5] #결석\n",
        "no_book = [7] #책 안들고 옴\n",
        "#결석한 학생들은 넘어가고 다른 친구들에게 책 읽도록 하는 것이 continue의 역할\n",
        "for student in range(1,11): #1~10번\n",
        "  if student in absent:\n",
        "    continue\n",
        "  elif student in no_book:\n",
        "    print(\"오늘 수업 여기까지. {0}는 교무실로 따라와.\" .format(student))\n",
        "    break #break가 나오면 바로 반복문 탈출\n",
        "  print(\"{0}, 책을 읽어봐.\" .format(student))"
      ],
      "metadata": {
        "id": "06oMP9tGA6Q1",
        "colab": {
          "base_uri": "https://localhost:8080/"
        },
        "outputId": "9e824ff4-3d0f-44c4-93bc-423fd9eab0a0"
      },
      "execution_count": 16,
      "outputs": [
        {
          "output_type": "stream",
          "name": "stdout",
          "text": [
            "1, 책을 읽어봐.\n",
            "3, 책을 읽어봐.\n",
            "4, 책을 읽어봐.\n",
            "6, 책을 읽어봐.\n",
            "오늘 수업 여기까지. 7는 교무실로 따라와.\n"
          ]
        }
      ]
    },
    {
      "cell_type": "markdown",
      "source": [
        "### 한줄 for"
      ],
      "metadata": {
        "id": "wAbpxUnCCep6"
      }
    },
    {
      "cell_type": "code",
      "source": [
        "#출석 번호가 1 2 3 4, 앞에 100을 붙이기로 함.  -> 101, 102, 103, 104\n",
        "students = [1,2, 3, 4, 5]\n",
        "students = [i + 100 for i in students]\n",
        "print(students)"
      ],
      "metadata": {
        "id": "cTVdM9wXChVX",
        "colab": {
          "base_uri": "https://localhost:8080/"
        },
        "outputId": "3f0ddc79-e54c-4e40-e872-68b257575a71"
      },
      "execution_count": 6,
      "outputs": [
        {
          "output_type": "stream",
          "name": "stdout",
          "text": [
            "[101, 102, 103, 104, 105]\n"
          ]
        }
      ]
    },
    {
      "cell_type": "code",
      "source": [
        "#학생 이름을 길이(length)로 변환\n",
        "students = [\"Iron man\", \"Thor\", \"I am groot\"]\n",
        "students = [len(i) for i in students]\n",
        "print(students)"
      ],
      "metadata": {
        "id": "DniJLX-IC-Fq",
        "colab": {
          "base_uri": "https://localhost:8080/"
        },
        "outputId": "dee0a5b0-da84-48f7-bb6b-ae8944a99c15"
      },
      "execution_count": 2,
      "outputs": [
        {
          "output_type": "stream",
          "name": "stdout",
          "text": [
            "[8, 4, 10]\n"
          ]
        }
      ]
    },
    {
      "cell_type": "code",
      "source": [
        "#학생 이름을 대문자로 변환\n",
        "students = [\"Iron man\", \"Thor\", \"I am groot\"]\n",
        "students = [i.upper() for i in students]\n",
        "print(students)"
      ],
      "metadata": {
        "id": "dCyLJyivDmSA",
        "colab": {
          "base_uri": "https://localhost:8080/"
        },
        "outputId": "33d57676-cd76-4e58-cdd5-91f8d94eb5dd"
      },
      "execution_count": 1,
      "outputs": [
        {
          "output_type": "stream",
          "name": "stdout",
          "text": [
            "['IRON MAN', 'THOR', 'I AM GROOT']\n"
          ]
        }
      ]
    },
    {
      "cell_type": "markdown",
      "source": [
        "### quiz"
      ],
      "metadata": {
        "id": "feMQodmIKedo"
      }
    },
    {
      "cell_type": "markdown",
      "source": [
        "당신은 카카오 서비스를 이용하는 택시 기사이다.\n",
        "50명의 승객과 매칭 기회가 있을 때, 총 탑승 승객 수를 구하는 프로그램을 작성하시오\n",
        "\n",
        "조건1: 승객별 운행 소요 시간은 5분~50분 사이의 난수로 정해집니다.\n",
        "조건2: 당신은 소요 시간 5분 ~ 15분 사이의 승객만 매칭해야 합니다.\n",
        "\n",
        "출력문 예제\n",
        "[0] 1번째 손님 (소요시간 : 15분)\n",
        "[ ] 2번째 손님 (소요시간 : 50분)\n",
        "[0] 3번째 손님 (소요시간: 5분)\n",
        "...\n",
        "[ ] 50번째 손님 (소요시간: 16분)\n",
        "\n",
        "총 탑승승객 : 2 분"
      ],
      "metadata": {
        "id": "X9Gdo0wrKibM"
      }
    },
    {
      "cell_type": "code",
      "source": [
        "#내 풀이\n",
        "from random import*\n",
        "num = 0\n",
        "for customer in range(1, 51):\n",
        "  if 5 <= time <= 15:\n",
        "    time = randint(5, 50)\n",
        "    num += 1\n",
        "    print(f\"[O] {customer}번째 손님 소요시간: {time}분\")\n",
        "  elif time > 15:\n",
        "    time = randint(5, 50)\n",
        "    print(f\"[ ] {customer}번째 손님 소요시간: {time}분\")\n",
        "print(f\"총 탑승 승객: {num}분\")"
      ],
      "metadata": {
        "colab": {
          "base_uri": "https://localhost:8080/"
        },
        "id": "Rc6WtGj_K2XR",
        "outputId": "b9525461-a8bc-4856-bd56-9272dd5a2b1d"
      },
      "execution_count": 94,
      "outputs": [
        {
          "output_type": "stream",
          "name": "stdout",
          "text": [
            "[ ] 1번째 손님 소요시간: 36분\n",
            "[ ] 2번째 손님 소요시간: 8분\n",
            "[O] 3번째 손님 소요시간: 5분\n",
            "[O] 4번째 손님 소요시간: 28분\n",
            "[ ] 5번째 손님 소요시간: 31분\n",
            "[ ] 6번째 손님 소요시간: 9분\n",
            "[O] 7번째 손님 소요시간: 35분\n",
            "[ ] 8번째 손님 소요시간: 29분\n",
            "[ ] 9번째 손님 소요시간: 46분\n",
            "[ ] 10번째 손님 소요시간: 45분\n",
            "[ ] 11번째 손님 소요시간: 26분\n",
            "[ ] 12번째 손님 소요시간: 42분\n",
            "[ ] 13번째 손님 소요시간: 48분\n",
            "[ ] 14번째 손님 소요시간: 45분\n",
            "[ ] 15번째 손님 소요시간: 23분\n",
            "[ ] 16번째 손님 소요시간: 19분\n",
            "[ ] 17번째 손님 소요시간: 41분\n",
            "[ ] 18번째 손님 소요시간: 39분\n",
            "[ ] 19번째 손님 소요시간: 43분\n",
            "[ ] 20번째 손님 소요시간: 20분\n",
            "[ ] 21번째 손님 소요시간: 37분\n",
            "[ ] 22번째 손님 소요시간: 14분\n",
            "[O] 23번째 손님 소요시간: 13분\n",
            "[O] 24번째 손님 소요시간: 46분\n",
            "[ ] 25번째 손님 소요시간: 23분\n",
            "[ ] 26번째 손님 소요시간: 14분\n",
            "[O] 27번째 손님 소요시간: 21분\n",
            "[ ] 28번째 손님 소요시간: 12분\n",
            "[O] 29번째 손님 소요시간: 11분\n",
            "[O] 30번째 손님 소요시간: 39분\n",
            "[ ] 31번째 손님 소요시간: 16분\n",
            "[ ] 32번째 손님 소요시간: 49분\n",
            "[ ] 33번째 손님 소요시간: 7분\n",
            "[O] 34번째 손님 소요시간: 11분\n",
            "[O] 35번째 손님 소요시간: 8분\n",
            "[O] 36번째 손님 소요시간: 16분\n",
            "[ ] 37번째 손님 소요시간: 20분\n",
            "[ ] 38번째 손님 소요시간: 27분\n",
            "[ ] 39번째 손님 소요시간: 49분\n",
            "[ ] 40번째 손님 소요시간: 50분\n",
            "[ ] 41번째 손님 소요시간: 14분\n",
            "[O] 42번째 손님 소요시간: 15분\n",
            "[O] 43번째 손님 소요시간: 18분\n",
            "[ ] 44번째 손님 소요시간: 32분\n",
            "[ ] 45번째 손님 소요시간: 20분\n",
            "[ ] 46번째 손님 소요시간: 17분\n",
            "[ ] 47번째 손님 소요시간: 46분\n",
            "[ ] 48번째 손님 소요시간: 24분\n",
            "[ ] 49번째 손님 소요시간: 32분\n",
            "[ ] 50번째 손님 소요시간: 7분\n",
            "총 탑승 승객: 13분\n"
          ]
        }
      ]
    }
  ]
}