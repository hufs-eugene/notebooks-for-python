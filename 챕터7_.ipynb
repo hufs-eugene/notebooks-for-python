{
  "nbformat": 4,
  "nbformat_minor": 0,
  "metadata": {
    "colab": {
      "name": "챕터7 .ipynb",
      "provenance": [],
      "collapsed_sections": [
        "-8KWwSLjwLNC"
      ],
      "authorship_tag": "ABX9TyO/DDfqcg5Zz+yZrkt8prWo",
      "include_colab_link": true
    },
    "kernelspec": {
      "name": "python3",
      "display_name": "Python 3"
    },
    "language_info": {
      "name": "python"
    }
  },
  "cells": [
    {
      "cell_type": "markdown",
      "metadata": {
        "id": "view-in-github",
        "colab_type": "text"
      },
      "source": [
        "<a href=\"https://colab.research.google.com/github/hufs-eugene/notebooks-for-python/blob/main/%EC%B1%95%ED%84%B07_.ipynb\" target=\"_parent\"><img src=\"https://colab.research.google.com/assets/colab-badge.svg\" alt=\"Open In Colab\"/></a>"
      ]
    },
    {
      "cell_type": "markdown",
      "source": [
        "###함수"
      ],
      "metadata": {
        "id": "-8KWwSLjwLNC"
      }
    },
    {
      "cell_type": "markdown",
      "source": [
        "함수는 박스(구슬주머니)"
      ],
      "metadata": {
        "id": "f2yETjEvwd_M"
      }
    },
    {
      "cell_type": "code",
      "source": [
        "# def 함수명():\n",
        "def open_account():\n",
        "  print(\"새로운 계좌가 생성되었습니다.\") #호출하기 전까지는 실행 x"
      ],
      "metadata": {
        "id": "7QbW6t5ewPwd"
      },
      "execution_count": null,
      "outputs": []
    },
    {
      "cell_type": "code",
      "source": [
        "open_account()"
      ],
      "metadata": {
        "colab": {
          "base_uri": "https://localhost:8080/"
        },
        "id": "Izm05x6_wyGA",
        "outputId": "b87bfdbc-a373-4118-bfe4-68b325d51a1d"
      },
      "execution_count": null,
      "outputs": [
        {
          "output_type": "stream",
          "name": "stdout",
          "text": [
            "새로운 계좌가 생성되었습니다.\n"
          ]
        }
      ]
    },
    {
      "cell_type": "markdown",
      "source": [
        "### 전달값과 반환값"
      ],
      "metadata": {
        "id": "KZFrGD6Zw55s"
      }
    },
    {
      "cell_type": "code",
      "source": [
        "def deposit(balance, money): #전달값, balance:원래 잔액 money: 입금 금액\n",
        "  print(\"입금이 완료되었습니다. 잔액은 {0}원입니다.\" .format(balance + money))\n",
        "  return balance + money #반환값\n",
        "\n",
        "balance = 0 #잔액\n",
        "balance = deposit(balance, 1000)\n",
        "print(balance)"
      ],
      "metadata": {
        "colab": {
          "base_uri": "https://localhost:8080/"
        },
        "id": "T1-kPYI6xAI6",
        "outputId": "bc963814-fb7b-44ba-e47a-cd756fa96f27"
      },
      "execution_count": null,
      "outputs": [
        {
          "output_type": "stream",
          "name": "stdout",
          "text": [
            "입금이 완료되었습니다. 잔액은 1000원입니다.\n",
            "1000\n"
          ]
        }
      ]
    },
    {
      "cell_type": "code",
      "source": [
        "def withdraw(balance, money): #출금액: money\n",
        "  if balance >= money: #잔액이 출금액보다 많으면\n",
        "    print(\"출금이 완료되었습니다. 잔액은 {0}원입니다.\".format(balance-money))\n",
        "    return balance-money\n",
        "  else:\n",
        "    print(\"출금이 불가능합니다. 잔액은 {0}원입니다.\".format(balance))\n",
        "\n",
        "balance = 0 #잔액\n",
        "balance = deposit(balance, 1000)\n",
        "#balance = withdraw(balance, 2000)\n",
        "balance = withdraw(balance, 500)\n"
      ],
      "metadata": {
        "colab": {
          "base_uri": "https://localhost:8080/"
        },
        "id": "gn-p2BXWmVoK",
        "outputId": "6215ef23-78ab-48c6-832f-6b286c03f041"
      },
      "execution_count": null,
      "outputs": [
        {
          "output_type": "stream",
          "name": "stdout",
          "text": [
            "입금이 완료되었습니다. 잔액은 1000원입니다.\n",
            "출금이 완료되었습니다. 잔액은 500원입니다.\n"
          ]
        }
      ]
    },
    {
      "cell_type": "code",
      "source": [
        "def withdraw_night(balance, money): #저녁에 출금, 수수료\n",
        "  commission = 100\n",
        "  return commission, balance - money - commission\n",
        "\n",
        "balance = 0 #잔액\n",
        "balance = deposit(balance, 1000)\n",
        "commission, balance = withdraw_night(balance, 500) #commission은 왜?\n",
        "print(f\"수수료 {commission}원 이며, 잔액은 {balance}원 입니다.\")"
      ],
      "metadata": {
        "colab": {
          "base_uri": "https://localhost:8080/"
        },
        "id": "Q6XTq4mEnG2N",
        "outputId": "9a9257a6-21f0-4d5b-c730-db778c481c6c"
      },
      "execution_count": null,
      "outputs": [
        {
          "output_type": "stream",
          "name": "stdout",
          "text": [
            "입금이 완료되었습니다. 잔액은 1000원입니다.\n",
            "수수료 100원 이며, 잔액은 400원 입니다.\n"
          ]
        }
      ]
    },
    {
      "cell_type": "markdown",
      "source": [
        "### 함수 부연설명"
      ],
      "metadata": {
        "id": "gfsUdXWn8Vqm"
      }
    },
    {
      "cell_type": "markdown",
      "source": [
        "1. 똑같은거 자주 써야되는데 복붙하기 귀찮을 때 = 긴 코드 짧은 단어로 축약할 때"
      ],
      "metadata": {
        "id": "kuFGB3VD8qFc"
      }
    },
    {
      "cell_type": "code",
      "source": [
        "def 인사하기() :\n",
        "  print(\"축약할 코드\")\n",
        "\n",
        "인사하기()\n",
        "인사하기()\n",
        "인사하기()\n",
        "인사하기()"
      ],
      "metadata": {
        "colab": {
          "base_uri": "https://localhost:8080/"
        },
        "id": "xAijSnK48xOa",
        "outputId": "b9901ca8-8015-4978-cff4-1fd55161e366"
      },
      "execution_count": null,
      "outputs": [
        {
          "output_type": "stream",
          "name": "stdout",
          "text": [
            "축약할 코드\n",
            "축약할 코드\n",
            "축약할 코드\n",
            "축약할 코드\n"
          ]
        }
      ]
    },
    {
      "cell_type": "markdown",
      "source": [
        "2. 마술 모자 만들기 기능 = 뭔가 집어넣으면 다른게 나오는 변환기"
      ],
      "metadata": {
        "id": "Qw0_Jkrg9GJE"
      }
    },
    {
      "cell_type": "code",
      "source": [
        "def 모자(구멍): \n",
        "  print(구멍)\n",
        "\n",
        "모자(12331) #구멍 자리에서 12331 나오게 해주라. 이거는 구멍에 12331 넣은거!"
      ],
      "metadata": {
        "colab": {
          "base_uri": "https://localhost:8080/"
        },
        "id": "XugJMciN9O7V",
        "outputId": "fbd257d4-7cd9-4b07-e83c-3746d5e77589"
      },
      "execution_count": null,
      "outputs": [
        {
          "output_type": "stream",
          "name": "stdout",
          "text": [
            "12331\n"
          ]
        }
      ]
    },
    {
      "cell_type": "code",
      "source": [
        "def 모자e(구멍):\n",
        "  print(구멍 + 1)\n",
        "\n",
        "모자e(1)\n",
        "모자e(2)"
      ],
      "metadata": {
        "colab": {
          "base_uri": "https://localhost:8080/"
        },
        "id": "gP4HoXq59xoc",
        "outputId": "1ef17a46-e14c-46c8-8497-d84d5f67850f"
      },
      "execution_count": null,
      "outputs": [
        {
          "output_type": "stream",
          "name": "stdout",
          "text": [
            "2\n",
            "3\n"
          ]
        }
      ]
    },
    {
      "cell_type": "code",
      "source": [
        "#구멍은 여러개 일 수 있다.\n",
        "def 모자(구멍1, 구멍2):\n",
        "  print(구멍1 + 구멍2)\n",
        "\n",
        "모자(2, 3)"
      ],
      "metadata": {
        "colab": {
          "base_uri": "https://localhost:8080/"
        },
        "id": "wVZ4mpMW-2ab",
        "outputId": "67218a7b-03c1-41ce-87a8-f93d02f62cd3"
      },
      "execution_count": null,
      "outputs": [
        {
          "output_type": "stream",
          "name": "stdout",
          "text": [
            "5\n"
          ]
        }
      ]
    },
    {
      "cell_type": "markdown",
      "source": [
        "3. 함수 실행하고 나서 가죽을 남기고 싶을 때\n",
        "return: 남길 자료, 옵션일 뿐"
      ],
      "metadata": {
        "id": "tPPTOY8I-QFb"
      }
    },
    {
      "cell_type": "code",
      "source": [
        "def 함수():\n",
        "  return 10 #함수 실행하고 나서 10을 남겨주세요\n",
        "\n",
        "함수()"
      ],
      "metadata": {
        "colab": {
          "base_uri": "https://localhost:8080/"
        },
        "id": "U5_uRhVR-RGH",
        "outputId": "763c9fef-f33a-4142-8e7a-6defb9f19631"
      },
      "execution_count": null,
      "outputs": [
        {
          "output_type": "execute_result",
          "data": {
            "text/plain": [
              "10"
            ]
          },
          "metadata": {},
          "execution_count": 29
        }
      ]
    },
    {
      "cell_type": "markdown",
      "source": [
        "### 기본값"
      ],
      "metadata": {
        "id": "YrlCQekFpEFc"
      }
    },
    {
      "cell_type": "code",
      "source": [
        "def profile(name, age, main_lang):\n",
        "  print(\"이름 : {0}\\t나이 : {1}\\t주 사용 언어 : {2}\" \\\n",
        "        .format(name, age, main_lang)) #길때는 \\ 사용하기!\n",
        "\n",
        "profile(\"유재석\", 20, \"파이썬\")\n",
        "profile(\"김태호\", 25, \"자바\")\n"
      ],
      "metadata": {
        "colab": {
          "base_uri": "https://localhost:8080/"
        },
        "id": "KwKgmgW3pQMw",
        "outputId": "a215b4f0-568f-4da1-c589-db7b1b6a50ea"
      },
      "execution_count": null,
      "outputs": [
        {
          "output_type": "stream",
          "name": "stdout",
          "text": [
            "이름 : 유재석\t나이 : 20\t주 사용 언어 : 파이썬\n",
            "이름 : 김태호\t나이 : 25\t주 사용 언어 : 자바\n"
          ]
        }
      ]
    },
    {
      "cell_type": "code",
      "source": [
        "#같은 학교 같은 학년 같은 반 같은 수업 듣는 경우 -> 기본값 사용\n",
        "def profile(name, age = 17, main_lang=\"파이썬\"):\n",
        "  print(\"이름 : {0}\\t나이 : {1}\\t주 사용 언어 : {2}\" \\\n",
        "        .format(name, age, main_lang)) #길때는 \\ 사용하기!\n",
        "profile(\"유재석\")\n",
        "profile(\"김태호\")"
      ],
      "metadata": {
        "colab": {
          "base_uri": "https://localhost:8080/"
        },
        "id": "Hw-CWjRJvdIz",
        "outputId": "185f9935-5932-470a-80be-dd5043720caa"
      },
      "execution_count": null,
      "outputs": [
        {
          "output_type": "stream",
          "name": "stdout",
          "text": [
            "이름 : 유재석\t나이 : 17\t주 사용 언어 : 파이썬\n",
            "이름 : 김태호\t나이 : 17\t주 사용 언어 : 파이썬\n"
          ]
        }
      ]
    },
    {
      "cell_type": "markdown",
      "source": [
        "###키워드 값"
      ],
      "metadata": {
        "id": "6jOMsGmlvvZ6"
      }
    },
    {
      "cell_type": "code",
      "source": [
        "def profile(name, age, main_lang):\n",
        "  print(name, age, main_lang)\n",
        "\n",
        "profile(name=\"유재석\", main_lang=\"파이썬\", age=20)\n",
        "profile(main_lang=\"자바\", age=25, name=\"김태호\")\n"
      ],
      "metadata": {
        "colab": {
          "base_uri": "https://localhost:8080/"
        },
        "id": "vhk90PHvvxd0",
        "outputId": "2f31837b-f1ef-4195-c42a-c3a3cc44f6a6"
      },
      "execution_count": null,
      "outputs": [
        {
          "output_type": "stream",
          "name": "stdout",
          "text": [
            "유재석 20 파이썬\n",
            "김태호 25 자바\n"
          ]
        }
      ]
    },
    {
      "cell_type": "markdown",
      "source": [
        "###가변인자"
      ],
      "metadata": {
        "id": "Ge7COd-yxp-A"
      }
    },
    {
      "cell_type": "code",
      "source": [
        "def profile(name, age, lang1, lang2, lang3, lang4, lang5):\n",
        "  print(\"이름: {0}\\t나이 : {1}\\t\".format(name, age), end=\" \")\n",
        "  print(lang1, lang2, lang3, lang4, lang5)\n",
        "\n",
        "profile(\"유재석\", 20, \"파이썬\", \"자바\", \"C\", \"C++\", \"C#\")\n",
        "profile(\"김태호\", 25, \"kotlin\", \"swift\", \"\", \"\", \"\")"
      ],
      "metadata": {
        "colab": {
          "base_uri": "https://localhost:8080/"
        },
        "id": "8cqt5Wicxrpf",
        "outputId": "fa9c8af2-21b1-4140-9360-5f6634ef156e"
      },
      "execution_count": null,
      "outputs": [
        {
          "output_type": "stream",
          "name": "stdout",
          "text": [
            "이름: 유재석\t나이 : 20\t 파이썬 자바 C C++ C#\n",
            "이름: 김태호\t나이 : 25\t kotlin swift   \n"
          ]
        }
      ]
    },
    {
      "cell_type": "code",
      "source": [
        "#할줄 아는 언어가 늘어나거나 모르는 언어가 많은 경우 *language 이용!\n",
        "def profile(name, age, *language):\n",
        "  print(\"이름: {0}\\t나이 : {1}\\t\".format(name, age), end=\" \")\n",
        "  for lang in language:\n",
        "    print(lang, end = \" \")\n",
        "  print()\n",
        "\n",
        "profile(\"유재석\", 20, \"파이썬\", \"자바\", \"C\", \"C++\", \"C#\", \"자바스크립트\")\n",
        "profile(\"김태호\", 25, \"kotlin\", \"swift\", \"\", \"\", \"\")"
      ],
      "metadata": {
        "colab": {
          "base_uri": "https://localhost:8080/"
        },
        "id": "gW2u4eK4ykmG",
        "outputId": "a1e97411-f499-4ec4-9759-f7990f53b3b2"
      },
      "execution_count": null,
      "outputs": [
        {
          "output_type": "stream",
          "name": "stdout",
          "text": [
            "이름: 유재석\t나이 : 20\t 파이썬 자바 C C++ C# 자바스크립트 \n",
            "이름: 김태호\t나이 : 25\t kotlin swift    \n"
          ]
        }
      ]
    },
    {
      "cell_type": "markdown",
      "source": [
        "###지역변수와 전역변수"
      ],
      "metadata": {
        "id": "nGIm9ycjz0_p"
      }
    },
    {
      "cell_type": "code",
      "source": [
        "#지역변수: 함수 내에서만 쓸 수 있는 변수\n",
        "#전역변수: 프로그램 어디서나 부를 수 있는 변수\n",
        "\n",
        "gun = 10\n",
        "\n",
        "def checkpoint(soldiers): #경계근무\n",
        "  gun = gun - soldiers\n",
        "  print(\"[함수 내] 남은 총 : {0}\".format(gun))\n",
        "\n",
        "print(\"전체 총: {0}\" .format(gun))\n",
        "checkpoint(2)\n",
        "print(\"남은 총: {0}\" .format(gun))\n",
        "\n",
        "#지역변수가 초기화 되지 않았기 때문에 오류가 남."
      ],
      "metadata": {
        "colab": {
          "base_uri": "https://localhost:8080/",
          "height": 390
        },
        "id": "7ivzgltVz3KP",
        "outputId": "493664f4-82b3-489f-bc19-7ef366ae68a9"
      },
      "execution_count": null,
      "outputs": [
        {
          "output_type": "stream",
          "name": "stdout",
          "text": [
            "전체 총: 10\n"
          ]
        },
        {
          "output_type": "error",
          "ename": "UnboundLocalError",
          "evalue": "ignored",
          "traceback": [
            "\u001b[0;31m---------------------------------------------------------------------------\u001b[0m",
            "\u001b[0;31mUnboundLocalError\u001b[0m                         Traceback (most recent call last)",
            "\u001b[0;32m<ipython-input-21-b4eb2546198d>\u001b[0m in \u001b[0;36m<module>\u001b[0;34m()\u001b[0m\n\u001b[1;32m      9\u001b[0m \u001b[0;34m\u001b[0m\u001b[0m\n\u001b[1;32m     10\u001b[0m \u001b[0mprint\u001b[0m\u001b[0;34m(\u001b[0m\u001b[0;34m\"전체 총: {0}\"\u001b[0m \u001b[0;34m.\u001b[0m\u001b[0mformat\u001b[0m\u001b[0;34m(\u001b[0m\u001b[0mgun\u001b[0m\u001b[0;34m)\u001b[0m\u001b[0;34m)\u001b[0m\u001b[0;34m\u001b[0m\u001b[0;34m\u001b[0m\u001b[0m\n\u001b[0;32m---> 11\u001b[0;31m \u001b[0mcheckpoint\u001b[0m\u001b[0;34m(\u001b[0m\u001b[0;36m2\u001b[0m\u001b[0;34m)\u001b[0m\u001b[0;34m\u001b[0m\u001b[0;34m\u001b[0m\u001b[0m\n\u001b[0m\u001b[1;32m     12\u001b[0m \u001b[0mprint\u001b[0m\u001b[0;34m(\u001b[0m\u001b[0;34m\"남은 총: {0}\"\u001b[0m \u001b[0;34m.\u001b[0m\u001b[0mformat\u001b[0m\u001b[0;34m(\u001b[0m\u001b[0mgun\u001b[0m\u001b[0;34m)\u001b[0m\u001b[0;34m)\u001b[0m\u001b[0;34m\u001b[0m\u001b[0;34m\u001b[0m\u001b[0m\n\u001b[1;32m     13\u001b[0m \u001b[0;34m\u001b[0m\u001b[0m\n",
            "\u001b[0;32m<ipython-input-21-b4eb2546198d>\u001b[0m in \u001b[0;36mcheckpoint\u001b[0;34m(soldiers)\u001b[0m\n\u001b[1;32m      5\u001b[0m \u001b[0;34m\u001b[0m\u001b[0m\n\u001b[1;32m      6\u001b[0m \u001b[0;32mdef\u001b[0m \u001b[0mcheckpoint\u001b[0m\u001b[0;34m(\u001b[0m\u001b[0msoldiers\u001b[0m\u001b[0;34m)\u001b[0m\u001b[0;34m:\u001b[0m \u001b[0;31m#경계근무\u001b[0m\u001b[0;34m\u001b[0m\u001b[0;34m\u001b[0m\u001b[0m\n\u001b[0;32m----> 7\u001b[0;31m   \u001b[0mgun\u001b[0m \u001b[0;34m=\u001b[0m \u001b[0mgun\u001b[0m \u001b[0;34m-\u001b[0m \u001b[0msoldiers\u001b[0m\u001b[0;34m\u001b[0m\u001b[0;34m\u001b[0m\u001b[0m\n\u001b[0m\u001b[1;32m      8\u001b[0m   \u001b[0mprint\u001b[0m\u001b[0;34m(\u001b[0m\u001b[0;34m\"[함수 내] 남은 총 : {0}\"\u001b[0m\u001b[0;34m.\u001b[0m\u001b[0mformat\u001b[0m\u001b[0;34m(\u001b[0m\u001b[0mgun\u001b[0m\u001b[0;34m)\u001b[0m\u001b[0;34m)\u001b[0m\u001b[0;34m\u001b[0m\u001b[0;34m\u001b[0m\u001b[0m\n\u001b[1;32m      9\u001b[0m \u001b[0;34m\u001b[0m\u001b[0m\n",
            "\u001b[0;31mUnboundLocalError\u001b[0m: local variable 'gun' referenced before assignment"
          ]
        }
      ]
    },
    {
      "cell_type": "code",
      "source": [
        "gun = 10\n",
        "\n",
        "def checkpoint(soldiers): #경계근무\n",
        "  gun = 20\n",
        "  gun = gun - soldiers\n",
        "  print(\"[함수 내] 남은 총 : {0}\".format(gun))\n",
        "\n",
        "print(\"전체 총: {0}\" .format(gun))\n",
        "checkpoint(2)\n",
        "print(\"남은 총: {0}\" .format(gun))"
      ],
      "metadata": {
        "colab": {
          "base_uri": "https://localhost:8080/"
        },
        "id": "7kOc_pvD0pGH",
        "outputId": "4b73ade8-ec2b-4ebc-d753-61c89f7d8e85"
      },
      "execution_count": null,
      "outputs": [
        {
          "output_type": "stream",
          "name": "stdout",
          "text": [
            "전체 총: 10\n",
            "[함수 내] 남은 총 : 18\n",
            "남은 총: 10\n"
          ]
        }
      ]
    },
    {
      "cell_type": "code",
      "source": [
        "gun = 10\n",
        "\n",
        "def checkpoint(soldiers): #경계근무\n",
        "  global gun #전역변수에 있는 gun을 checkpoint에서 사용하겠다\n",
        "  gun = gun - soldiers\n",
        "  print(\"[함수 내] 남은 총 : {0}\".format(gun))\n",
        "\n",
        "print(\"전체 총: {0}\" .format(gun))\n",
        "checkpoint(2)\n",
        "print(\"남은 총: {0}\" .format(gun))"
      ],
      "metadata": {
        "colab": {
          "base_uri": "https://localhost:8080/"
        },
        "id": "gyuOZtSs09uA",
        "outputId": "28efdf4d-ab39-48ae-c7bc-3a70bd372fe3"
      },
      "execution_count": null,
      "outputs": [
        {
          "output_type": "stream",
          "name": "stdout",
          "text": [
            "전체 총: 10\n",
            "[함수 내] 남은 총 : 8\n",
            "남은 총: 8\n"
          ]
        }
      ]
    },
    {
      "cell_type": "code",
      "source": [
        "#가급적 지역변수 사용, 리턴값 받아서 사용\n",
        "gun = 10\n",
        "\n",
        "def checkpoint(soldiers): #경계근무\n",
        "  global gun #전역변수에 있는 gun을 checkpoint에서 사용하겠다\n",
        "  gun = gun - soldiers\n",
        "  print(\"[함수 내] 남은 총 : {0}\".format(gun))\n",
        "\n",
        "def checkpoint_ret(gun, soldiers):\n",
        "  gun = gun - soldiers\n",
        "  print(\"[함수 내] 남은 총 : {0}\".format(gun))\n",
        "  return gun  #바뀐 gun 값을 밖으로 던질 수 있음\n",
        "\n",
        "print(\"전체 총: {0}\" .format(gun))\n",
        "gun = checkpoint_ret(gun, 2)\n",
        "print(\"남은 총: {0}\" .format(gun)) #return으로 gun 값이 바뀜"
      ],
      "metadata": {
        "colab": {
          "base_uri": "https://localhost:8080/"
        },
        "id": "IqplLNlY29bE",
        "outputId": "b8e0e72d-52da-4bbd-b639-5702e6c8adef"
      },
      "execution_count": 27,
      "outputs": [
        {
          "output_type": "stream",
          "name": "stdout",
          "text": [
            "전체 총: 10\n",
            "[함수 내] 남은 총 : 8\n",
            "남은 총: 8\n"
          ]
        }
      ]
    },
    {
      "cell_type": "markdown",
      "source": [
        "###quiz"
      ],
      "metadata": {
        "id": "NoxZDFhH4Zam"
      }
    },
    {
      "cell_type": "markdown",
      "source": [
        "표준 체중을 구하는 프로그램을 작성하시오\n",
        "\n",
        "남자: 키(m) x 키(m) x 22\n",
        "\n",
        "여자: 키(m) x 키(m) x 21\n",
        "\n",
        "조건 1: 표준 체중은 별도의 함수 내에서 계산\n",
        "  * 함수명 : std_weight\n",
        "  * 전달값 : 키(height), 성별(gender)\n",
        "\n",
        "조건 2: 표준 체중은 소수점 둘째자리까지 표시\n",
        "\n",
        "(출력 예제)\n",
        "키 175cm 남자의 표준 체중은 67.38kg 입니다."
      ],
      "metadata": {
        "id": "8LvghlMp4b45"
      }
    },
    {
      "cell_type": "code",
      "source": [
        "def std_weight(height, gender):\n",
        "  if gender == \"남성\":\n",
        "    return height*height*22\n",
        "  else:\n",
        "    return height*height*21\n",
        "\n",
        "gender = \"남성\"\n",
        "height = 175\n",
        "weight = round(std_weight(height / 100, gender), 2)\n",
        "print(\"키 {0}cm {1}의 표준 체중은 {2}kg 입니다\".format(height, gender, weight))"
      ],
      "metadata": {
        "colab": {
          "base_uri": "https://localhost:8080/"
        },
        "id": "3cxYgSHf5ER8",
        "outputId": "a0bb0fce-49c7-4652-e42d-9cfca42339df"
      },
      "execution_count": 36,
      "outputs": [
        {
          "output_type": "stream",
          "name": "stdout",
          "text": [
            "키 175cm 남성의 표준 체중은 67.38kg 입니다\n"
          ]
        }
      ]
    }
  ]
}