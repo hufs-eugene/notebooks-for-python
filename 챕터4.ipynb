{
  "nbformat": 4,
  "nbformat_minor": 0,
  "metadata": {
    "colab": {
      "name": "챕터4.ipynb",
      "provenance": [],
      "collapsed_sections": [
        "rJhlwPWyMXYA",
        "SGX-vAuONQpm",
        "GjFAFV4KpSRn"
      ],
      "authorship_tag": "ABX9TyOtrI+sfs65fmHTOvUwhA0T",
      "include_colab_link": true
    },
    "kernelspec": {
      "name": "python3",
      "display_name": "Python 3"
    },
    "language_info": {
      "name": "python"
    }
  },
  "cells": [
    {
      "cell_type": "markdown",
      "metadata": {
        "id": "view-in-github",
        "colab_type": "text"
      },
      "source": [
        "<a href=\"https://colab.research.google.com/github/hufs-eugene/notebooks-for-python/blob/main/%EC%B1%95%ED%84%B04.ipynb\" target=\"_parent\"><img src=\"https://colab.research.google.com/assets/colab-badge.svg\" alt=\"Open In Colab\"/></a>"
      ]
    },
    {
      "cell_type": "markdown",
      "source": [
        "### 문자열"
      ],
      "metadata": {
        "id": "rJhlwPWyMXYA"
      }
    },
    {
      "cell_type": "code",
      "source": [
        "sentence = '나는 소년입니다.'\n",
        "print(sentence)"
      ],
      "metadata": {
        "colab": {
          "base_uri": "https://localhost:8080/"
        },
        "id": "OyuL6wxoMaZC",
        "outputId": "dd419121-5e07-4735-d4ef-71e204524e2c"
      },
      "execution_count": null,
      "outputs": [
        {
          "output_type": "stream",
          "name": "stdout",
          "text": [
            "나는 소년입니다.\n"
          ]
        }
      ]
    },
    {
      "cell_type": "code",
      "source": [
        "sentence2 = \"파이썬은 쉬워요\"\n",
        "print(sentence2)"
      ],
      "metadata": {
        "colab": {
          "base_uri": "https://localhost:8080/"
        },
        "id": "E0JPfqElMja3",
        "outputId": "cfe609f7-5758-480b-d5aa-eab74c58fb88"
      },
      "execution_count": null,
      "outputs": [
        {
          "output_type": "stream",
          "name": "stdout",
          "text": [
            "파이썬은 쉬워요\n"
          ]
        }
      ]
    },
    {
      "cell_type": "code",
      "source": [
        "sentence3 = \"\"\"나는 소년이고,\n",
        "파이썬은 쉬워요\"\"\""
      ],
      "metadata": {
        "id": "fZ5Zl7ATMvzX"
      },
      "execution_count": 41,
      "outputs": []
    },
    {
      "cell_type": "code",
      "source": [
        "print(sentence3) # 엥?"
      ],
      "metadata": {
        "colab": {
          "base_uri": "https://localhost:8080/"
        },
        "id": "Jras2gytMyBU",
        "outputId": "d2628e3c-eece-4b34-ea47-b57f25927036"
      },
      "execution_count": 42,
      "outputs": [
        {
          "output_type": "stream",
          "name": "stdout",
          "text": [
            "나는 소년이고,\n",
            "파이썬은 쉬워요\n"
          ]
        }
      ]
    },
    {
      "cell_type": "markdown",
      "source": [
        "### 슬라이싱"
      ],
      "metadata": {
        "id": "SGX-vAuONQpm"
      }
    },
    {
      "cell_type": "markdown",
      "source": [
        "- 필요한 정보만 가져오는 것\n",
        "- [] 안에는 필요한 정보의 순서를 기입한다\n",
        "- **주의! index는 0부터 시작한다.**\n",
        "-**0부터 1까지의 값을 가져오고 싶을 때에는 [0:2] :** 0부터 2 직전 값 까지 가져온다.\n",
        "- 뒤에서부터 순서를 새서 값을 가져 오고 싶을때: -1부터 시작한다"
      ],
      "metadata": {
        "id": "po9UCPDVNgiF"
      }
    },
    {
      "cell_type": "code",
      "source": [
        "jumin = \"990120-1234567\"\n",
        "print(\"성별: \" + jumin[7])\n",
        "print(\"연: \" + jumin[0:2]) \n",
        "print(\"월: \" + jumin[2:4])\n",
        "print(\"일: \" + jumin[4:6])\n",
        "\n",
        "print(\"생년월일: \" + jumin[0:6])\n",
        "print(\"생년월일: \" + jumin[:6]) #처음부터 6번째 직전까지\n",
        "\n",
        "print(\"뒤 7자리:\" + jumin[7:14]) \n",
        "print(\"뒤 7자리:\" + jumin[7:]) #7번째부터 끝까지\n",
        "print(\"뒤 7자리 (뒤에부터): \" + jumin[-7:-1]) # 맨 뒤에서 7번째부터 끝까지"
      ],
      "metadata": {
        "colab": {
          "base_uri": "https://localhost:8080/"
        },
        "id": "nVMd1EsfNTKW",
        "outputId": "b06d996c-e3a1-4740-92a7-42169a155b52"
      },
      "execution_count": null,
      "outputs": [
        {
          "output_type": "stream",
          "name": "stdout",
          "text": [
            "성별: 1\n",
            "연: 99\n",
            "월: 01\n",
            "일: 20\n",
            "생년월일: 990120\n",
            "생년월일: 990120\n",
            "뒤 7자리:1234567\n",
            "뒤 7자리:1234567\n",
            "뒤 7자리 (뒤에부터): 123456\n"
          ]
        }
      ]
    },
    {
      "cell_type": "code",
      "source": [
        ""
      ],
      "metadata": {
        "id": "LwUdJLVhPbJq"
      },
      "execution_count": null,
      "outputs": []
    },
    {
      "cell_type": "markdown",
      "source": [
        "### 문자열 처리 함수"
      ],
      "metadata": {
        "id": "YvdoWEZfhus5"
      }
    },
    {
      "cell_type": "code",
      "source": [
        "python = \"Python is Amazing\"\n",
        "print(python.lower())\n",
        "print(python.upper())\n",
        "print(python[0].isupper()) #문자열의 첫번째 글자가 대문자인가? True or False\n",
        "print(len(python))\n",
        "print(python.replace(\"Python\", \"Java\"))"
      ],
      "metadata": {
        "colab": {
          "base_uri": "https://localhost:8080/"
        },
        "id": "uKh5-mkfh5ol",
        "outputId": "775f4ce5-9b94-480f-8515-cba2f9d3801e"
      },
      "execution_count": 4,
      "outputs": [
        {
          "output_type": "stream",
          "name": "stdout",
          "text": [
            "python is amazing\n",
            "PYTHON IS AMAZING\n",
            "True\n",
            "17\n",
            "Java is Amazing\n"
          ]
        }
      ]
    },
    {
      "cell_type": "code",
      "source": [
        "index = python.index(\"n\")\n",
        "print(index)\n",
        "index = python.index(\"n\", index + 1) #두번째 n을 찾는 방법\n",
        "print(index)"
      ],
      "metadata": {
        "colab": {
          "base_uri": "https://localhost:8080/"
        },
        "id": "-0OG6Oqyk_Qc",
        "outputId": "98681539-f7b0-41f1-bc20-080892d85342"
      },
      "execution_count": 7,
      "outputs": [
        {
          "output_type": "stream",
          "name": "stdout",
          "text": [
            "5\n",
            "15\n"
          ]
        }
      ]
    },
    {
      "cell_type": "code",
      "source": [
        "print(python.find(\"n\")) \n",
        "\n",
        "#find와 index의 차이\n",
        "print(python.find(\"Java\")) #값이 없을 경우 -1 반환\n",
        "print(python.index(\"Java\")) #값이 없을 경우 오류\n",
        "print(\"hi\") #hi가 출력되지 않고 프로그램 종류됨"
      ],
      "metadata": {
        "colab": {
          "base_uri": "https://localhost:8080/",
          "height": 263
        },
        "id": "_JOi26LGlYiZ",
        "outputId": "3442cf20-c9bd-4f1b-ad47-db76d5b606b2"
      },
      "execution_count": 11,
      "outputs": [
        {
          "output_type": "stream",
          "name": "stdout",
          "text": [
            "5\n",
            "-1\n"
          ]
        },
        {
          "output_type": "error",
          "ename": "ValueError",
          "evalue": "ignored",
          "traceback": [
            "\u001b[0;31m---------------------------------------------------------------------------\u001b[0m",
            "\u001b[0;31mValueError\u001b[0m                                Traceback (most recent call last)",
            "\u001b[0;32m<ipython-input-11-8b481c1b9ed6>\u001b[0m in \u001b[0;36m<module>\u001b[0;34m()\u001b[0m\n\u001b[1;32m      3\u001b[0m \u001b[0;31m#find와 index의 차이\u001b[0m\u001b[0;34m\u001b[0m\u001b[0;34m\u001b[0m\u001b[0;34m\u001b[0m\u001b[0m\n\u001b[1;32m      4\u001b[0m \u001b[0mprint\u001b[0m\u001b[0;34m(\u001b[0m\u001b[0mpython\u001b[0m\u001b[0;34m.\u001b[0m\u001b[0mfind\u001b[0m\u001b[0;34m(\u001b[0m\u001b[0;34m\"Java\"\u001b[0m\u001b[0;34m)\u001b[0m\u001b[0;34m)\u001b[0m \u001b[0;31m#값이 없을 경우 -1 반환\u001b[0m\u001b[0;34m\u001b[0m\u001b[0;34m\u001b[0m\u001b[0m\n\u001b[0;32m----> 5\u001b[0;31m \u001b[0mprint\u001b[0m\u001b[0;34m(\u001b[0m\u001b[0mpython\u001b[0m\u001b[0;34m.\u001b[0m\u001b[0mindex\u001b[0m\u001b[0;34m(\u001b[0m\u001b[0;34m\"Java\"\u001b[0m\u001b[0;34m)\u001b[0m\u001b[0;34m)\u001b[0m \u001b[0;31m#값이 없을 경우 오류\u001b[0m\u001b[0;34m\u001b[0m\u001b[0;34m\u001b[0m\u001b[0m\n\u001b[0m\u001b[1;32m      6\u001b[0m \u001b[0mprint\u001b[0m\u001b[0;34m(\u001b[0m\u001b[0;34m\"hi\"\u001b[0m\u001b[0;34m)\u001b[0m\u001b[0;34m\u001b[0m\u001b[0;34m\u001b[0m\u001b[0m\n",
            "\u001b[0;31mValueError\u001b[0m: substring not found"
          ]
        }
      ]
    },
    {
      "cell_type": "code",
      "source": [
        "print(python.count(\"n\"))"
      ],
      "metadata": {
        "colab": {
          "base_uri": "https://localhost:8080/"
        },
        "id": "9QH9a80xl7y1",
        "outputId": "6da742e9-04c2-4c9d-f159-9e6f78ddd18d"
      },
      "execution_count": 12,
      "outputs": [
        {
          "output_type": "stream",
          "name": "stdout",
          "text": [
            "2\n"
          ]
        }
      ]
    },
    {
      "cell_type": "markdown",
      "source": [
        "### 문자열 포맷"
      ],
      "metadata": {
        "id": "2CYNC_zXmDdq"
      }
    },
    {
      "cell_type": "code",
      "source": [
        "print(\"a\" + \"b\") #띄어쓰기 x\n",
        "print(\"a\", \"b\") #띄어쓰기 O"
      ],
      "metadata": {
        "colab": {
          "base_uri": "https://localhost:8080/"
        },
        "id": "3bSNbmI_mGp7",
        "outputId": "0bd5fa73-c24a-4ab3-f954-5f870f807c8b"
      },
      "execution_count": 13,
      "outputs": [
        {
          "output_type": "stream",
          "name": "stdout",
          "text": [
            "ab\n",
            "a b\n"
          ]
        }
      ]
    },
    {
      "cell_type": "code",
      "source": [
        "#방법 1\n",
        "print(\"나는 20살입니다.\")\n",
        "print(\"나는 %d살입니다.\" %20) #d: 정수\n",
        "print(\"나는 python을 좋아해요.\")\n",
        "print(\"나는 %s을 좋아해요.\" %\"python\") #s: 문자열\n",
        "print(\"Apple은 A로 시작해요,\")\n",
        "print(\"Apple은 %c로 시작해요.\" %\"A\") #c: 한 글자\n",
        "\n",
        "print(\"나는 %s색과 %s색을 좋아해요.\" %(\"파란\", \"빨간\"))"
      ],
      "metadata": {
        "colab": {
          "base_uri": "https://localhost:8080/"
        },
        "id": "crjouSAHmU65",
        "outputId": "711456fb-df98-491c-d0ed-5eb443af64ef"
      },
      "execution_count": 18,
      "outputs": [
        {
          "output_type": "stream",
          "name": "stdout",
          "text": [
            "나는 20살입니다.\n",
            "나는 20살입니다.\n",
            "나는 python을 좋아해요.\n",
            "나는 python을 좋아해요.\n",
            "Apple은 A로 시작해요,\n",
            "Apple은 A로 시작해요.\n",
            "나는 파란색과 빨간색을 좋아해요.\n"
          ]
        }
      ]
    },
    {
      "cell_type": "code",
      "source": [
        "#방법 2\n",
        "print(\"나는 {}살입니다.\" .format(20))\n",
        "print(\"나는 {}색과 {}색을 좋아해요.\" .format(\"파란\", \"빨간\"))\n",
        "print(\"나는 {0}색과 {1}색을 좋아해요.\" .format(\"파란\", \"빨간\"))\n",
        "print(\"나는 {1}색과 {0}색을 좋아해요.\" .format(\"파란\", \"빨간\"))\n",
        "print(\"나는 {1}색과 {1}색을 좋아해요.\" .format(\"파란\", \"빨간\"))"
      ],
      "metadata": {
        "colab": {
          "base_uri": "https://localhost:8080/"
        },
        "id": "KN41a4mAm9nY",
        "outputId": "a9b8edff-a08c-430b-c0ca-ce6066b4e9be"
      },
      "execution_count": 23,
      "outputs": [
        {
          "output_type": "stream",
          "name": "stdout",
          "text": [
            "나는 20살입니다.\n",
            "나는 파란색과 빨간색을 좋아해요.\n",
            "나는 파란색과 빨간색을 좋아해요.\n",
            "나는 빨간색과 파란색을 좋아해요.\n",
            "나는 빨간색과 빨간색을 좋아해요.\n"
          ]
        }
      ]
    },
    {
      "cell_type": "code",
      "source": [
        "#방법 3\n",
        "print(\"나는 {age}살이며, {color}색을 좋아해요.\" .format(age = 20, color = \"빨간\"))\n",
        "print(\"나는 {age}살이며, {color}색을 좋아해요.\" .format(color = \"빨간\", age = 20))"
      ],
      "metadata": {
        "colab": {
          "base_uri": "https://localhost:8080/"
        },
        "id": "txgMEG_QoGYZ",
        "outputId": "3743f9e1-d484-4bb9-f2ca-9294f8509dfa"
      },
      "execution_count": 25,
      "outputs": [
        {
          "output_type": "stream",
          "name": "stdout",
          "text": [
            "나는 20살이며, 빨간색을 좋아해요.\n",
            "나는 20살이며, 빨간색을 좋아해요.\n"
          ]
        }
      ]
    },
    {
      "cell_type": "code",
      "source": [
        "#방법 4 (파이썬 v3.6 이상 가능)\n",
        "age = 20\n",
        "color = \"빨간\"\n",
        "print(f\"나는 {age}살이며, {color}색을 좋아해요.\") #미리 정의된 변수 갖다 쓸 수 있음"
      ],
      "metadata": {
        "colab": {
          "base_uri": "https://localhost:8080/"
        },
        "id": "xo6APKcComJC",
        "outputId": "5123d7f6-8568-491e-f623-36e39613e01c"
      },
      "execution_count": 26,
      "outputs": [
        {
          "output_type": "stream",
          "name": "stdout",
          "text": [
            "나는 20살이며, 빨간색을 좋아해요.\n"
          ]
        }
      ]
    },
    {
      "cell_type": "markdown",
      "source": [
        "### 이스케이프 시퀀스(탈출 문자)"
      ],
      "metadata": {
        "id": "GjFAFV4KpSRn"
      }
    },
    {
      "cell_type": "code",
      "source": [
        "print(\"백문이 불여일견 백견이 불여일타\")\n",
        "print(\"백문이 불여일견\n",
        " 백견이 불여일타\") #오류\n",
        " "
      ],
      "metadata": {
        "colab": {
          "base_uri": "https://localhost:8080/",
          "height": 136
        },
        "id": "9ncbeQDgpYRj",
        "outputId": "708d8221-aac0-466e-e051-c9e01402ea07"
      },
      "execution_count": 28,
      "outputs": [
        {
          "output_type": "error",
          "ename": "SyntaxError",
          "evalue": "ignored",
          "traceback": [
            "\u001b[0;36m  File \u001b[0;32m\"<ipython-input-28-cbb84daaf154>\"\u001b[0;36m, line \u001b[0;32m2\u001b[0m\n\u001b[0;31m    print(\"백문이 불여일견\u001b[0m\n\u001b[0m                   ^\u001b[0m\n\u001b[0;31mSyntaxError\u001b[0m\u001b[0;31m:\u001b[0m EOL while scanning string literal\n"
          ]
        }
      ]
    },
    {
      "cell_type": "code",
      "source": [
        "print(\"백문이 불여일견 \\n백견이 불여일타\")\n",
        "print(\"저는 \\\"나는 코딩\\\" 입니다.\")\n",
        "print('저는 \"나는 코딩\" 입니다.')\n",
        "print(\"저는 '나는 코딩' 입니다.\")\n",
        "print(\"저는 \\'나는 코딩\\' 입니다.\")"
      ],
      "metadata": {
        "colab": {
          "base_uri": "https://localhost:8080/"
        },
        "id": "SMCgHAYRpl7z",
        "outputId": "251aab13-abe3-4ae7-a7d0-23e4066181e1"
      },
      "execution_count": 33,
      "outputs": [
        {
          "output_type": "stream",
          "name": "stdout",
          "text": [
            "백문이 불여일견 \n",
            "백견이 불여일타\n",
            "저는 \"나는 코딩\" 입니다.\n",
            "저는 \"나는 코딩\" 입니다.\n",
            "저는 '나는 코딩' 입니다.\n",
            "저는 '나는 코딩' 입니다.\n",
            "c:\\users\\Nadocoding\n"
          ]
        }
      ]
    },
    {
      "cell_type": "code",
      "source": [
        "# print(\"c:\\users\\Nadocoding\"): 오류\n",
        "print(\"c:\\\\users\\\\Nadocoding\") #\\\\: \\로 출력"
      ],
      "metadata": {
        "id": "cH9lSvpSq4ZI"
      },
      "execution_count": null,
      "outputs": []
    },
    {
      "cell_type": "code",
      "source": [
        "print(\"Red Apple \\r Pine\") #\\r: 커서를 맨 앞으로 이동"
      ],
      "metadata": {
        "colab": {
          "base_uri": "https://localhost:8080/"
        },
        "id": "J619KlChq6BO",
        "outputId": "31f3a5d6-3838-4173-b9c7-45d0b2fe62f3"
      },
      "execution_count": 38,
      "outputs": [
        {
          "output_type": "stream",
          "name": "stdout",
          "text": [
            "Red Apple \r Pine\n"
          ]
        }
      ]
    },
    {
      "cell_type": "code",
      "source": [
        "print(\"Red\\bApple\") #%b: 백스페이스 (한 글자 삭제)"
      ],
      "metadata": {
        "colab": {
          "base_uri": "https://localhost:8080/"
        },
        "id": "scF4xuYOrV_u",
        "outputId": "21ce623e-c29e-4d4c-e683-530d1f067066"
      },
      "execution_count": 39,
      "outputs": [
        {
          "output_type": "stream",
          "name": "stdout",
          "text": [
            "Red\bApple\n"
          ]
        }
      ]
    },
    {
      "cell_type": "code",
      "source": [
        "print(\"\\t집에가고싶다\")"
      ],
      "metadata": {
        "colab": {
          "base_uri": "https://localhost:8080/"
        },
        "id": "08wkHWNnrnT7",
        "outputId": "5677d863-f560-4e05-90db-63bb40abc600"
      },
      "execution_count": 40,
      "outputs": [
        {
          "output_type": "stream",
          "name": "stdout",
          "text": [
            "\t집에가고싶다\n"
          ]
        }
      ]
    },
    {
      "cell_type": "markdown",
      "source": [
        "### 퀴즈"
      ],
      "metadata": {
        "id": "rGh1bEFUrxWc"
      }
    },
    {
      "cell_type": "code",
      "source": [
        "사이트 별로 비밀번호를 만들어 주는 프로그램을 작성하시오.\n",
        "\n",
        "예 http://naver.com\n",
        "규칙1 : http:// 부분은 제외 => naver.com\n",
        "규칙2 : 처음 만나는 점(.) 이후 부분은 제외 => naver\n",
        "규칙3 : 남은 글자 중 처음 세자리 + 글자 갯수 + 글자 내 'e' 갯수 + \"!\"로 구성\n",
        "                         (nav)        (5)         (1)               (!)\n",
        "예) 생성된 비밀번호 : nav51!\n"
      ],
      "metadata": {
        "id": "i6Wx79y4sEem"
      },
      "execution_count": null,
      "outputs": []
    },
    {
      "cell_type": "code",
      "source": [
        "#내풀이\n",
        "url = input(\"url주소를 입력하세요: \")\n",
        "password = url[7:-4]\n",
        "pre = password[0:3]\n",
        "num = len(password)\n",
        "nume = password.count(\"e\")\n",
        "print(f\"생성된 비밀번호 : {pre}{num}{nume}!\")"
      ],
      "metadata": {
        "colab": {
          "base_uri": "https://localhost:8080/"
        },
        "id": "PGeo_Zmls8KL",
        "outputId": "a2a32444-eeb0-441a-f928-81fa35115db5"
      },
      "execution_count": 75,
      "outputs": [
        {
          "output_type": "stream",
          "name": "stdout",
          "text": [
            "url주소를 입력하세요: http://youtube.com\n",
            "생성된 비밀번호 : you71!\n"
          ]
        }
      ]
    },
    {
      "cell_type": "code",
      "source": [
        "#답안\n",
        "url = \"http://naver.com\"\n",
        "my_str = url.replace(\"http://\", \"\") #규칙1\n",
        "my_str = my_str[:my_str.index(\".\")] #처음부터 . 전까지 자르겠다.\n",
        "password = my_str[:3] + str(len(my_str)) + str(my_str.count(\"e\")) + \"!\"\n",
        "print(\"{0}의 비밀번호는 {1}입니다.\".format(url, password) )"
      ],
      "metadata": {
        "colab": {
          "base_uri": "https://localhost:8080/"
        },
        "id": "Fmg3BgM61jzD",
        "outputId": "32878739-c237-4a93-cf8a-48d953fbdd78"
      },
      "execution_count": 73,
      "outputs": [
        {
          "output_type": "stream",
          "name": "stdout",
          "text": [
            "http://naver.com의 비밀번호는 nav51!입니다.\n"
          ]
        }
      ]
    }
  ]
}