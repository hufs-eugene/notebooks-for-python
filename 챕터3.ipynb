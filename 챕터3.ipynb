{
  "nbformat": 4,
  "nbformat_minor": 0,
  "metadata": {
    "colab": {
      "name": "챕터3.ipynb",
      "provenance": [],
      "collapsed_sections": [
        "PaRTxm-e4j3G",
        "betV_QMX6-Ih",
        "8qZfAai79Njj",
        "xjQasztO-crq",
        "Abeq8cM6ApQc"
      ],
      "authorship_tag": "ABX9TyPcf1DDlAUXtATma8tShx+k",
      "include_colab_link": true
    },
    "kernelspec": {
      "name": "python3",
      "display_name": "Python 3"
    },
    "language_info": {
      "name": "python"
    }
  },
  "cells": [
    {
      "cell_type": "markdown",
      "metadata": {
        "id": "view-in-github",
        "colab_type": "text"
      },
      "source": [
        "<a href=\"https://colab.research.google.com/github/hufs-eugene/notebooks-for-python/blob/main/%EC%B1%95%ED%84%B03.ipynb\" target=\"_parent\"><img src=\"https://colab.research.google.com/assets/colab-badge.svg\" alt=\"Open In Colab\"/></a>"
      ]
    },
    {
      "cell_type": "markdown",
      "source": [
        "###연산자"
      ],
      "metadata": {
        "id": "PaRTxm-e4j3G"
      }
    },
    {
      "cell_type": "markdown",
      "source": [
        "- 기본 연산"
      ],
      "metadata": {
        "id": "zFxE1Lgg5pSc"
      }
    },
    {
      "cell_type": "code",
      "source": [
        "print(1 + 1)\n",
        "print(3 - 2)\n",
        "print(5 * 2)\n",
        "print(6 / 3)"
      ],
      "metadata": {
        "colab": {
          "base_uri": "https://localhost:8080/"
        },
        "id": "FNdXyWKl4n98",
        "outputId": "6126ff20-7342-45e4-9c5a-f490be783e9e"
      },
      "execution_count": 1,
      "outputs": [
        {
          "output_type": "stream",
          "name": "stdout",
          "text": [
            "2\n",
            "1\n",
            "10\n",
            "2.0\n"
          ]
        }
      ]
    },
    {
      "cell_type": "markdown",
      "source": [
        "- 거듭제곱, 나누기(몫, 나머지)"
      ],
      "metadata": {
        "id": "YWUlglh05rpa"
      }
    },
    {
      "cell_type": "code",
      "source": [
        "print(2**3) #거듭제곱\n",
        "print(5 % 3) #나머지\n",
        "print(10 % 3 ) #나머지\n",
        "print(5//3) #몫\n",
        "print(10//3) #몫"
      ],
      "metadata": {
        "colab": {
          "base_uri": "https://localhost:8080/"
        },
        "id": "a7C7wGn643v4",
        "outputId": "37772400-126b-4223-80f3-f6442ee5a0a7"
      },
      "execution_count": 7,
      "outputs": [
        {
          "output_type": "stream",
          "name": "stdout",
          "text": [
            "8\n",
            "2\n",
            "1\n",
            "1\n",
            "3\n"
          ]
        }
      ]
    },
    {
      "cell_type": "markdown",
      "source": [
        "- 비교연산"
      ],
      "metadata": {
        "id": "kgpjgsFP5wvF"
      }
    },
    {
      "cell_type": "code",
      "source": [
        "print(10 > 3) \n",
        "print(4 >= 7) \n",
        "print(10 < 3)\n",
        "print(5 <= 5)\n",
        "print(3 == 3)\n",
        "print(4 == 2)\n",
        "print(3 + 4 == 7)\n",
        "print(1 != 3) # 같지 않다(==의 부정)\n",
        "print(not 1 != 3)"
      ],
      "metadata": {
        "colab": {
          "base_uri": "https://localhost:8080/"
        },
        "id": "z2P3k5xs5xxp",
        "outputId": "454d30ee-da18-4ada-f9fa-5e7ce812e1f6"
      },
      "execution_count": 9,
      "outputs": [
        {
          "output_type": "stream",
          "name": "stdout",
          "text": [
            "True\n",
            "False\n",
            "False\n",
            "True\n",
            "True\n",
            "False\n",
            "True\n",
            "True\n",
            "False\n"
          ]
        }
      ]
    },
    {
      "cell_type": "code",
      "source": [
        "print((3 > 0) and (3 < 5)) # 둘 다 만족하는 경우에 true \n",
        "print((3 > 0 & (3 < 5))) # and == &\n",
        "print((3>0) & (3<2))"
      ],
      "metadata": {
        "colab": {
          "base_uri": "https://localhost:8080/"
        },
        "id": "DPo3WQJp6Cfh",
        "outputId": "f1f1afc7-f3b0-40f4-9098-d0368a28a396"
      },
      "execution_count": 14,
      "outputs": [
        {
          "output_type": "stream",
          "name": "stdout",
          "text": [
            "True\n",
            "True\n",
            "False\n"
          ]
        }
      ]
    },
    {
      "cell_type": "code",
      "source": [
        "print((3>0) or (3>5)) #둘 중 하나가 true면 true 출력\n",
        "print((3>0) | (3>5))"
      ],
      "metadata": {
        "colab": {
          "base_uri": "https://localhost:8080/"
        },
        "id": "WS0h4Gi46a7T",
        "outputId": "62e21c28-049c-4576-e4ab-92fa09c167ab"
      },
      "execution_count": 11,
      "outputs": [
        {
          "output_type": "stream",
          "name": "stdout",
          "text": [
            "True\n",
            "True\n"
          ]
        }
      ]
    },
    {
      "cell_type": "code",
      "source": [
        "print(5 > 4 > 3)\n",
        "print(5 > 4> 7)"
      ],
      "metadata": {
        "colab": {
          "base_uri": "https://localhost:8080/"
        },
        "id": "FTN1_qxx6qKc",
        "outputId": "b0e98486-b424-4ae0-aab2-3d5b2c980110"
      },
      "execution_count": 12,
      "outputs": [
        {
          "output_type": "stream",
          "name": "stdout",
          "text": [
            "True\n",
            "False\n"
          ]
        }
      ]
    },
    {
      "cell_type": "markdown",
      "source": [
        "### 간단한 수식"
      ],
      "metadata": {
        "id": "betV_QMX6-Ih"
      }
    },
    {
      "cell_type": "code",
      "source": [
        "print(2 + 3 * 4)\n",
        "print((2+3) * 4) # 우선순위 연산"
      ],
      "metadata": {
        "id": "zn9rDSxU7DNe"
      },
      "execution_count": null,
      "outputs": []
    },
    {
      "cell_type": "code",
      "source": [
        "number = 2 + 3 * 4\n",
        "print(number)\n",
        "number = number +2 \n",
        "print(number)\n",
        "number += 2 # number는 이전 계산에 걸려서 계속 바뀐다. 가까운게 변수값\n",
        "print(number)\n",
        "number -= 2\n",
        "print(number)\n",
        "number *= 2\n",
        "print(number)\n",
        "number /= 2\n",
        "print(number)\n",
        "number %= 5 # 나머지\n",
        "print(number)"
      ],
      "metadata": {
        "colab": {
          "base_uri": "https://localhost:8080/"
        },
        "id": "ScPRll5j7Lhb",
        "outputId": "66db2412-ef9a-446e-dec5-0e0100291624"
      },
      "execution_count": 26,
      "outputs": [
        {
          "output_type": "stream",
          "name": "stdout",
          "text": [
            "14\n",
            "16\n",
            "18\n",
            "16\n",
            "32\n",
            "16.0\n",
            "1.0\n"
          ]
        }
      ]
    },
    {
      "cell_type": "markdown",
      "source": [
        "### 숫자 처리 함수"
      ],
      "metadata": {
        "id": "8qZfAai79Njj"
      }
    },
    {
      "cell_type": "code",
      "source": [
        "print(abs(-5)) #절댓값)\n",
        "print(pow(4, 2)) #4의 2승, 4^2, 4*4\n",
        "print(max(5, 12)) #최댓값 반환, 12\n",
        "print(min(5, 12)) #최솟값 반환, 5\n",
        "print(round(3.14)) #반올림\n",
        "print(round(4.99)) #5"
      ],
      "metadata": {
        "colab": {
          "base_uri": "https://localhost:8080/"
        },
        "id": "2gnt5mCJ9Rj6",
        "outputId": "15a6908e-9aae-4af3-8615-e55304a6cb3c"
      },
      "execution_count": 34,
      "outputs": [
        {
          "output_type": "stream",
          "name": "stdout",
          "text": [
            "5\n",
            "16\n",
            "12\n",
            "5\n",
            "3\n",
            "5\n"
          ]
        }
      ]
    },
    {
      "cell_type": "code",
      "source": [
        "from math import *\n",
        "print(floor(4.99)) #내림\n",
        "print(ceil(3.14)) #올림\n",
        "print(sqrt(16)) #제곱근"
      ],
      "metadata": {
        "colab": {
          "base_uri": "https://localhost:8080/"
        },
        "id": "HdcDG4q5-tLh",
        "outputId": "2bd08ae0-e682-4329-a1ba-a25eea55107a"
      },
      "execution_count": 41,
      "outputs": [
        {
          "output_type": "stream",
          "name": "stdout",
          "text": [
            "4\n",
            "4\n",
            "4.0\n"
          ]
        }
      ]
    },
    {
      "cell_type": "markdown",
      "source": [
        "### 랜덤 함수(난수)"
      ],
      "metadata": {
        "id": "xjQasztO-crq"
      }
    },
    {
      "cell_type": "code",
      "source": [
        "from random import *\n",
        "\n",
        "print(random()) #0.0 ~ 1.0미만의 임의의 값 생성\n",
        "print(random() * 10) #0.0 ~ 10.0미만의 임의의 값 생성\n",
        "print(int(random() * 10)) #0 ~ 10미만의 임의의 값 생성\n",
        "print(int(random() * 10)) #0 ~ 10미만의 임의의 값 생성\n",
        "print(int(random() * 10)) #0 ~ 10미만의 임의의 값 생성\n",
        "print(int(random() * 10) + 1) #1 ~ 10이하의 임의의 값 생성\n",
        "print(int(random() * 10) + 1) #1 ~ 10이하의 임의의 값 생성\n",
        "print(int(random() * 10) + 1) #1 ~ 10이하의 임의의 값 생성"
      ],
      "metadata": {
        "colab": {
          "base_uri": "https://localhost:8080/"
        },
        "id": "qP_2pyz9-f1A",
        "outputId": "30ea1131-94fe-4a41-dc68-91cd2cfe1e9d"
      },
      "execution_count": 52,
      "outputs": [
        {
          "output_type": "stream",
          "name": "stdout",
          "text": [
            "0.34471344347897037\n",
            "7.719163926360041\n",
            "8\n",
            "5\n",
            "2\n",
            "2\n",
            "6\n",
            "5\n"
          ]
        }
      ]
    },
    {
      "cell_type": "markdown",
      "source": [
        "- 로또 추첨번호 출력하기(1~45)"
      ],
      "metadata": {
        "id": "u1TBgoPM_t7s"
      }
    },
    {
      "cell_type": "code",
      "source": [
        "print(int(random() * 45) + 1) #1 ~ 45이하의 임의의 값 생성\n",
        "print(int(random() * 45) + 1) #1 ~ 45이하의 임의의 값 생성\n",
        "print(int(random() * 45) + 1) #1 ~ 45이하의 임의의 값 생성\n",
        "print(int(random() * 45) + 1) #1 ~ 45이하의 임의의 값 생성\n",
        "print(int(random() * 45) + 1) #1 ~ 45이하의 임의의 값 생성\n",
        "print(int(random() * 45) + 1) #1 ~ 45이하의 임의의 값 생성"
      ],
      "metadata": {
        "colab": {
          "base_uri": "https://localhost:8080/"
        },
        "id": "Jg8KPq19_w_H",
        "outputId": "0fcd604b-1f89-4f1a-98cd-0472d71eb5af"
      },
      "execution_count": 54,
      "outputs": [
        {
          "output_type": "stream",
          "name": "stdout",
          "text": [
            "15\n",
            "31\n",
            "37\n",
            "45\n",
            "39\n",
            "3\n"
          ]
        }
      ]
    },
    {
      "cell_type": "code",
      "source": [
        "print(randrange(1 , 45)) #1 ~ 45 미만의 임의의 값 생성"
      ],
      "metadata": {
        "colab": {
          "base_uri": "https://localhost:8080/"
        },
        "id": "xgDBh8b5_8B0",
        "outputId": "7dc9ebe1-7a32-4e0d-95e3-f94c6920c8d9"
      },
      "execution_count": 56,
      "outputs": [
        {
          "output_type": "stream",
          "name": "stdout",
          "text": [
            "36\n"
          ]
        }
      ]
    },
    {
      "cell_type": "code",
      "source": [
        "print(randrange(1 , 46)) #1 ~ 46 미만의 임의의 값 생성\n",
        "print(randrange(1 , 46)) #1 ~ 46 미만의 임의의 값 생성\n",
        "print(randrange(1 , 46)) #1 ~ 46 미만의 임의의 값 생성\n",
        "print(randrange(1 , 46)) #1 ~ 46 미만의 임의의 값 생성\n",
        "print(randrange(1 , 46)) #1 ~ 46 미만의 임의의 값 생성\n",
        "print(randrange(1 , 46)) #1 ~ 46 미만의 임의의 값 생성"
      ],
      "metadata": {
        "colab": {
          "base_uri": "https://localhost:8080/"
        },
        "id": "Fasv5MJtAK3d",
        "outputId": "536ff9a9-a336-4958-f815-998ee43ced2a"
      },
      "execution_count": 57,
      "outputs": [
        {
          "output_type": "stream",
          "name": "stdout",
          "text": [
            "16\n",
            "20\n",
            "10\n",
            "11\n",
            "28\n",
            "7\n"
          ]
        }
      ]
    },
    {
      "cell_type": "code",
      "source": [
        "print(randint(1,45)) #1~45 이하의 임의의 값 생성\n",
        "print(randint(1,45)) #1~45 이하의 임의의 값 생성\n",
        "print(randint(1,45)) #1~45 이하의 임의의 값 생성\n",
        "print(randint(1,45)) #1~45 이하의 임의의 값 생성\n",
        "print(randint(1,45)) #1~45 이하의 임의의 값 생성\n",
        "print(randint(1,45)) #1~45 이하의 임의의 값 생성"
      ],
      "metadata": {
        "colab": {
          "base_uri": "https://localhost:8080/"
        },
        "id": "-i_gB-DTAX6K",
        "outputId": "6e74bc84-7139-4750-a64f-13319f69122c"
      },
      "execution_count": 58,
      "outputs": [
        {
          "output_type": "stream",
          "name": "stdout",
          "text": [
            "21\n",
            "25\n",
            "3\n",
            "13\n",
            "3\n",
            "8\n"
          ]
        }
      ]
    },
    {
      "cell_type": "markdown",
      "source": [
        "### quiz"
      ],
      "metadata": {
        "id": "Abeq8cM6ApQc"
      }
    },
    {
      "cell_type": "markdown",
      "source": [
        "당신은 최근에 코딩 스터디 모임을 새로 만들었습니다.\n",
        "월 4회 스터디를 하는데 3번은 온라인으로 하고 1번은 오프라인으로 하기로 했습니다.\n",
        "아래 조건에 맞는 오프라인 모임 날짜를 정해주는 프로그램을 작성하시오.\n",
        "\n",
        "- 조건1: 랜덤으로 날짜를 뽑아야 함.\n",
        "- 조건2: 월별 날짜는 다름을 감안하여 최소  일수인 28 이내로 정함\n",
        "- 조건3: 매월 1~3일은 스터디 준비를 해야 하므로 제외\n",
        "\n",
        "(출력문 예제)\n",
        "오프라인 스터디 모임 날짜는 매월 x일로 선정되었습니다.\n"
      ],
      "metadata": {
        "id": "vpj3cp3mArTs"
      }
    },
    {
      "cell_type": "code",
      "source": [
        "from random import *"
      ],
      "metadata": {
        "id": "dqP9m72sCh5_"
      },
      "execution_count": null,
      "outputs": []
    },
    {
      "cell_type": "code",
      "source": [
        "print(\"오프라인 스터디 모임 날짜는 매월\", randint(4,28), \"일로 선정되었습니다\")"
      ],
      "metadata": {
        "colab": {
          "base_uri": "https://localhost:8080/"
        },
        "id": "hn24f61aBVKW",
        "outputId": "f3b2e2cc-ae2b-4ea5-b5f8-f110a3e9813f"
      },
      "execution_count": 64,
      "outputs": [
        {
          "output_type": "stream",
          "name": "stdout",
          "text": [
            "오프라인 스터디 모임 날짜는 매월 5 일로 선정되었습니다\n"
          ]
        }
      ]
    },
    {
      "cell_type": "code",
      "source": [
        "print(\"오프라인 스터디 모임 날짜는 매월\", randrange(4,29), \"일로 선정되었습니다\")"
      ],
      "metadata": {
        "colab": {
          "base_uri": "https://localhost:8080/"
        },
        "id": "PES83B4DByc0",
        "outputId": "f04fb888-e56e-427f-cf40-bf1a4123cbe5"
      },
      "execution_count": 65,
      "outputs": [
        {
          "output_type": "stream",
          "name": "stdout",
          "text": [
            "오프라인 스터디 모임 날짜는 매월 11 일로 선정되었습니다\n"
          ]
        }
      ]
    },
    {
      "cell_type": "code",
      "source": [
        "print(\"오프라인 스터디 모임 날짜는 매월\", int(random() * 28 +1), \"일로 선정되었습니다\")"
      ],
      "metadata": {
        "colab": {
          "base_uri": "https://localhost:8080/"
        },
        "id": "odZ3cY2wB3j4",
        "outputId": "24b073a3-6232-4e38-fe8d-d94ae05b558f"
      },
      "execution_count": 66,
      "outputs": [
        {
          "output_type": "stream",
          "name": "stdout",
          "text": [
            "오프라인 스터디 모임 날짜는 매월 5 일로 선정되었습니다\n"
          ]
        }
      ]
    },
    {
      "cell_type": "markdown",
      "source": [
        "정석풀이"
      ],
      "metadata": {
        "id": "_TyNPBvwCoVS"
      }
    },
    {
      "cell_type": "code",
      "source": [
        "from random import *\n",
        "date = randint(4,28)\n",
        "print(\"오프라인 스터디 모임 날짜는 매월\" + str(date) + \"일로 선정되었습니다.\")"
      ],
      "metadata": {
        "colab": {
          "base_uri": "https://localhost:8080/"
        },
        "id": "LqBHou4OCtFl",
        "outputId": "10c3d51e-abcb-45e1-bb44-22912a2d0fcd"
      },
      "execution_count": 68,
      "outputs": [
        {
          "output_type": "stream",
          "name": "stdout",
          "text": [
            "오프라인 스터디 모임 날짜는 매월5일로 선정되었습니다.\n"
          ]
        }
      ]
    }
  ]
}