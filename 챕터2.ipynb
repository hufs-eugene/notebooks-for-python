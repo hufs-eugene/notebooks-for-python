{
  "nbformat": 4,
  "nbformat_minor": 0,
  "metadata": {
    "colab": {
      "name": "챕터2.ipynb",
      "provenance": [],
      "collapsed_sections": [
        "72HKQqVml8TB",
        "3Y5uuBdGnbFe",
        "4Lzg6tc6qG1d",
        "qR9fuUMbqvHF"
      ],
      "authorship_tag": "ABX9TyNtCxumeJEFZ+uIc19ZAWTE",
      "include_colab_link": true
    },
    "kernelspec": {
      "name": "python3",
      "display_name": "Python 3"
    },
    "language_info": {
      "name": "python"
    }
  },
  "cells": [
    {
      "cell_type": "markdown",
      "metadata": {
        "id": "view-in-github",
        "colab_type": "text"
      },
      "source": [
        "<a href=\"https://colab.research.google.com/github/hufs-eugene/hello-world/blob/main/%EC%B1%95%ED%84%B02.ipynb\" target=\"_parent\"><img src=\"https://colab.research.google.com/assets/colab-badge.svg\" alt=\"Open In Colab\"/></a>"
      ]
    },
    {
      "cell_type": "markdown",
      "source": [
        "### 자료형"
      ],
      "metadata": {
        "id": "72HKQqVml8TB"
      }
    },
    {
      "cell_type": "markdown",
      "source": [
        " - 숫자 자료형\n"
      ],
      "metadata": {
        "id": "HfK8qXl5r2j-"
      }
    },
    {
      "cell_type": "code",
      "source": [
        "print(5)\n",
        "print(-10)\n",
        "print(3.14)\n",
        "print(1000)\n",
        "print(5 + 3)\n",
        "print(2 * 8)\n",
        "print(3  * (3 + 1))"
      ],
      "metadata": {
        "colab": {
          "base_uri": "https://localhost:8080/"
        },
        "id": "n10zqYzYmAB7",
        "outputId": "f2d0631b-3ec2-4499-c675-d895f88dfc53"
      },
      "execution_count": null,
      "outputs": [
        {
          "output_type": "stream",
          "name": "stdout",
          "text": [
            "5\n",
            "-10\n",
            "3.14\n",
            "1000\n",
            "8\n",
            "16\n",
            "12\n"
          ]
        }
      ]
    },
    {
      "cell_type": "markdown",
      "source": [
        " - 문자열 자료형"
      ],
      "metadata": {
        "id": "N7CI7VtzmpoL"
      }
    },
    {
      "cell_type": "code",
      "source": [
        "print('풍선')\n",
        "print(\"나비\")\n",
        "print(\"ㅋㅋㅋㅋㅋㅋㅋ\")\n",
        "print(\"ㅋ\"*9)"
      ],
      "metadata": {
        "colab": {
          "base_uri": "https://localhost:8080/"
        },
        "id": "v-xbQy3AmrLs",
        "outputId": "7a828e51-5b54-43c4-fb91-1651b867290e"
      },
      "execution_count": null,
      "outputs": [
        {
          "output_type": "stream",
          "name": "stdout",
          "text": [
            "풍선\n",
            "나비\n",
            "ㅋㅋㅋㅋㅋㅋㅋ\n",
            "ㅋㅋㅋㅋㅋㅋㅋㅋㅋ\n"
          ]
        }
      ]
    },
    {
      "cell_type": "markdown",
      "source": [
        " - boolean 자료형"
      ],
      "metadata": {
        "id": "09uPzGXJm9_g"
      }
    },
    {
      "cell_type": "code",
      "source": [
        "print(5 > 10)\n",
        "print(5 < 10)\n",
        "print(True)\n",
        "print(False)\n",
        "print(not True)\n",
        "print(not False)\n",
        "print(not (5>10))"
      ],
      "metadata": {
        "colab": {
          "base_uri": "https://localhost:8080/"
        },
        "id": "C-kQQO4am_vM",
        "outputId": "e637c109-aebb-4d47-b8aa-58a14ec5760f"
      },
      "execution_count": null,
      "outputs": [
        {
          "output_type": "stream",
          "name": "stdout",
          "text": [
            "False\n",
            "True\n",
            "True\n",
            "False\n",
            "False\n",
            "True\n",
            "True\n"
          ]
        }
      ]
    },
    {
      "cell_type": "markdown",
      "source": [
        "### 변수\n"
      ],
      "metadata": {
        "id": "3Y5uuBdGnbFe"
      }
    },
    {
      "cell_type": "markdown",
      "source": [
        "반려동물을 소개해주세요"
      ],
      "metadata": {
        "id": "kps02zior5oF"
      }
    },
    {
      "cell_type": "code",
      "source": [
        "name = \"똘이\"\n",
        "animal = \"강아지\"\n",
        "age = 4\n",
        "hobby = \"산책\"\n",
        "is_adult = age >= 13"
      ],
      "metadata": {
        "id": "KE-nOnOUn1aj"
      },
      "execution_count": null,
      "outputs": []
    },
    {
      "cell_type": "code",
      "source": [
        "print(\"우리집 강아지의 이름은 똘이예요\")\n",
        "print(\"똘이의 나이는 4살이고 산책을 좋아해요\")\n",
        "print(\"똘이는 어른일까요? True\")"
      ],
      "metadata": {
        "id": "KvfsqxgbnhPx"
      },
      "execution_count": null,
      "outputs": []
    },
    {
      "cell_type": "code",
      "source": [
        "print(\"우리집\" + animal + \"의 이름은\" + name + \"예요\")\n",
        "hobby = \"공놀이\"\n",
        "print(name + \"의 나이는\" + str(age) + \"살이고\" + hobby + \"을 좋아해요\")\n",
        "print(name + \"는 어른일까요?\" +str(is_adult))"
      ],
      "metadata": {
        "colab": {
          "base_uri": "https://localhost:8080/"
        },
        "id": "HxYnobL_nyj4",
        "outputId": "61213893-6db2-48d3-d2aa-7785d9babbc8"
      },
      "execution_count": null,
      "outputs": [
        {
          "output_type": "stream",
          "name": "stdout",
          "text": [
            "우리집강아지의 이름은똘이예요\n",
            "똘이의 나이는4살이고공놀이을 좋아해요\n",
            "똘이는 어른일까요?False\n"
          ]
        }
      ]
    },
    {
      "cell_type": "markdown",
      "source": [
        "**# 정수, 불리언 자료형은 str 자료형으로 변환해주어야 한다.**"
      ],
      "metadata": {
        "id": "f1ZhoUYqpFra"
      }
    },
    {
      "cell_type": "code",
      "source": [
        "print(name,\"의 나이는\",age,\"살이고\", hobby,\"을 좋아해요\")"
      ],
      "metadata": {
        "colab": {
          "base_uri": "https://localhost:8080/"
        },
        "id": "2_h2G-C2pz4O",
        "outputId": "52807f22-a09d-48fa-e975-e6dee7242daf"
      },
      "execution_count": null,
      "outputs": [
        {
          "output_type": "stream",
          "name": "stdout",
          "text": [
            "똘이 의 나이는 4 살이고 공놀이 을 좋아해요\n"
          ]
        }
      ]
    },
    {
      "cell_type": "markdown",
      "source": [
        "**# 콤마로 이어줄 경우 정수, 불리언 자료형을 str로 변환해주지 않아도 된다.**"
      ],
      "metadata": {
        "id": "rEKZT_jIp9xt"
      }
    },
    {
      "cell_type": "markdown",
      "source": [
        "### 주석"
      ],
      "metadata": {
        "id": "4Lzg6tc6qG1d"
      }
    },
    {
      "cell_type": "code",
      "source": [
        "# 주석처리하는법은 해시태그\n",
        "'''이래도\n",
        " 주석이\n",
        "됩니다'''"
      ],
      "metadata": {
        "colab": {
          "base_uri": "https://localhost:8080/",
          "height": 35
        },
        "id": "4TQEFgWUqRNB",
        "outputId": "7a3b88ca-c891-4bb8-b7d5-a7af9c1d8e8f"
      },
      "execution_count": null,
      "outputs": [
        {
          "output_type": "execute_result",
          "data": {
            "application/vnd.google.colaboratory.intrinsic+json": {
              "type": "string"
            },
            "text/plain": [
              "'이래도\\n 주석이\\n됩니다'"
            ]
          },
          "metadata": {},
          "execution_count": 20
        }
      ]
    },
    {
      "cell_type": "markdown",
      "source": [
        "###QUIZ\n"
      ],
      "metadata": {
        "id": "qR9fuUMbqvHF"
      }
    },
    {
      "cell_type": "markdown",
      "source": [
        "변수를 이용하여 다음 문장을 출력하시오\n",
        "\n",
        " 변수명\n",
        " : station\n",
        "\n",
        " 변수값\n",
        " : \"사당\", \"신도림\", \"인천공항\" 순서대로 입력\n",
        "\n",
        " 출력문장\n",
        " : xx행 열차가 들어오고 있습니다"
      ],
      "metadata": {
        "id": "bmQbNOL-rw9q"
      }
    },
    {
      "cell_type": "code",
      "source": [
        "station = \"사당\"\n",
        "print(station,\"행 열차가 들어오고 있습니다.\")"
      ],
      "metadata": {
        "colab": {
          "base_uri": "https://localhost:8080/"
        },
        "id": "Al_1oYNvrB6O",
        "outputId": "e76a3bea-e5a4-4bb4-f46b-f72a956c1263"
      },
      "execution_count": null,
      "outputs": [
        {
          "output_type": "stream",
          "name": "stdout",
          "text": [
            "사당 행 열차가 들어오고 있습니다.\n"
          ]
        }
      ]
    },
    {
      "cell_type": "code",
      "source": [
        "station = \"신도림\"\n",
        "print(station,\"행 열차가 들어오고 있습니다.\")"
      ],
      "metadata": {
        "colab": {
          "base_uri": "https://localhost:8080/"
        },
        "id": "LCMJ6rcfrKQ1",
        "outputId": "25f26cc8-003b-46ab-e0ca-a831e5530b1b"
      },
      "execution_count": null,
      "outputs": [
        {
          "output_type": "stream",
          "name": "stdout",
          "text": [
            "신도림 행 열차가 들어오고 있습니다.\n"
          ]
        }
      ]
    },
    {
      "cell_type": "code",
      "source": [
        "station = \"인천공항\"\n",
        "print(station,\"행 열차가 들어오고 있습니다.\")"
      ],
      "metadata": {
        "colab": {
          "base_uri": "https://localhost:8080/"
        },
        "id": "qs4Mw33wrMgm",
        "outputId": "12b69dc2-8569-4091-eebd-060de05c4641"
      },
      "execution_count": null,
      "outputs": [
        {
          "output_type": "stream",
          "name": "stdout",
          "text": [
            "인천공항 행 열차가 들어오고 있습니다.\n"
          ]
        }
      ]
    }
  ]
}