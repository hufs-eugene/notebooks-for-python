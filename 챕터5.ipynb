{
  "nbformat": 4,
  "nbformat_minor": 0,
  "metadata": {
    "colab": {
      "name": "챕터5",
      "provenance": [],
      "collapsed_sections": [
        "Cfebt8iY5t1s",
        "jYtKb2gW_D4d",
        "PN-jG03iOOCl",
        "bhZICm_-P5DE",
        "IwVYj5E9Sylh",
        "SfeEnznNT0Sc"
      ],
      "authorship_tag": "ABX9TyPiYxNIYCxJuWPsaBRvtu+B",
      "include_colab_link": true
    },
    "kernelspec": {
      "name": "python3",
      "display_name": "Python 3"
    },
    "language_info": {
      "name": "python"
    }
  },
  "cells": [
    {
      "cell_type": "markdown",
      "metadata": {
        "id": "view-in-github",
        "colab_type": "text"
      },
      "source": [
        "<a href=\"https://colab.research.google.com/github/hufs-eugene/notebooks-for-python/blob/main/%EC%B1%95%ED%84%B05.ipynb\" target=\"_parent\"><img src=\"https://colab.research.google.com/assets/colab-badge.svg\" alt=\"Open In Colab\"/></a>"
      ]
    },
    {
      "cell_type": "markdown",
      "source": [
        "### 리스트[]"
      ],
      "metadata": {
        "id": "Cfebt8iY5t1s"
      }
    },
    {
      "cell_type": "markdown",
      "source": [
        ": 순서를 가지는 객체의 집합\n",
        "\n"
      ],
      "metadata": {
        "id": "8qsFgo696MMt"
      }
    },
    {
      "cell_type": "markdown",
      "source": [
        "\n",
        "ex: 지하철 칸 별로 10명, 20명, 30명이 있음."
      ],
      "metadata": {
        "id": "23B8Jxbf6Umz"
      }
    },
    {
      "cell_type": "code",
      "source": [
        "#기존\n",
        "subway1 = 10\n",
        "subway2 = 20\n",
        "subway3 = 30"
      ],
      "metadata": {
        "id": "5NWs2Um86WYN"
      },
      "execution_count": null,
      "outputs": []
    },
    {
      "cell_type": "code",
      "source": [
        "#연속적인 공간에 묶음\n",
        "subway = [10, 20, 30] #subway라는 공간에 순서대로 10, 20, 30이 들어감.\n",
        "print(subway)"
      ],
      "metadata": {
        "colab": {
          "base_uri": "https://localhost:8080/"
        },
        "id": "AZNd9Bni6hQ2",
        "outputId": "b39e0ded-83ed-49dd-853b-ac4f3d2f0863"
      },
      "execution_count": 1,
      "outputs": [
        {
          "output_type": "stream",
          "name": "stdout",
          "text": [
            "[10, 20, 30]\n"
          ]
        }
      ]
    },
    {
      "cell_type": "code",
      "source": [
        "subway = [\"유재석\", \"조세호\", \"박명수\"]\n",
        "print(subway)"
      ],
      "metadata": {
        "colab": {
          "base_uri": "https://localhost:8080/"
        },
        "id": "uAXsaimu61Yb",
        "outputId": "501f00ef-15eb-4fb8-82d5-c7be2acb8a6f"
      },
      "execution_count": 2,
      "outputs": [
        {
          "output_type": "stream",
          "name": "stdout",
          "text": [
            "['유재석', '조세호', '박명수']\n"
          ]
        }
      ]
    },
    {
      "cell_type": "code",
      "source": [
        "# 조세호씨가 몇 번째 칸에 타고 있는지?\n",
        "print(subway.index(\"조세호\"))"
      ],
      "metadata": {
        "colab": {
          "base_uri": "https://localhost:8080/"
        },
        "id": "Cn-Byllg6_SZ",
        "outputId": "54159659-8473-48dc-a94d-b92b3f8a6165"
      },
      "execution_count": 5,
      "outputs": [
        {
          "output_type": "stream",
          "name": "stdout",
          "text": [
            "1\n"
          ]
        }
      ]
    },
    {
      "cell_type": "code",
      "source": [
        "# 하하씨가 다음 정류장에서 다음 칸에 탐\n",
        "subway.append(\"하하\") #맨 뒷칸에 추가\n",
        "print(subway)"
      ],
      "metadata": {
        "colab": {
          "base_uri": "https://localhost:8080/"
        },
        "id": "uUaK6Rhy7Mp9",
        "outputId": "ff3757ee-7cea-43ca-aedd-32003df0f84e"
      },
      "execution_count": 6,
      "outputs": [
        {
          "output_type": "stream",
          "name": "stdout",
          "text": [
            "['유재석', '조세호', '박명수', '하하']\n"
          ]
        }
      ]
    },
    {
      "cell_type": "code",
      "source": [
        "# 정형돈씨를 유재석/조세호 사이에 추가\n",
        "subway.insert(1, \"정형돈\") #순서는 인덱스(0,1,2...) 따름\n",
        "print(subway)"
      ],
      "metadata": {
        "colab": {
          "base_uri": "https://localhost:8080/"
        },
        "id": "vDAwvCz67box",
        "outputId": "bba12f20-0b9d-4ec4-c708-2b03e9dbbd10"
      },
      "execution_count": 8,
      "outputs": [
        {
          "output_type": "stream",
          "name": "stdout",
          "text": [
            "['유재석', '정형돈', '조세호', '박명수', '하하']\n"
          ]
        }
      ]
    },
    {
      "cell_type": "code",
      "source": [
        "#지하철에 있는 사람을 한명씩 빼냄\n",
        "print(subway.pop())\n",
        "print(subway)"
      ],
      "metadata": {
        "colab": {
          "base_uri": "https://localhost:8080/",
          "height": 209
        },
        "id": "dVzrGD8H8gPl",
        "outputId": "e87268a4-92f8-4401-f353-937b2105ec31"
      },
      "execution_count": 17,
      "outputs": [
        {
          "output_type": "error",
          "ename": "IndexError",
          "evalue": "ignored",
          "traceback": [
            "\u001b[0;31m---------------------------------------------------------------------------\u001b[0m",
            "\u001b[0;31mIndexError\u001b[0m                                Traceback (most recent call last)",
            "\u001b[0;32m<ipython-input-17-491ec11b5d2b>\u001b[0m in \u001b[0;36m<module>\u001b[0;34m()\u001b[0m\n\u001b[1;32m      1\u001b[0m \u001b[0;31m#지하철에 있는 사람을 한명씩 빼냄\u001b[0m\u001b[0;34m\u001b[0m\u001b[0;34m\u001b[0m\u001b[0;34m\u001b[0m\u001b[0m\n\u001b[0;32m----> 2\u001b[0;31m \u001b[0mprint\u001b[0m\u001b[0;34m(\u001b[0m\u001b[0msubway\u001b[0m\u001b[0;34m.\u001b[0m\u001b[0mpop\u001b[0m\u001b[0;34m(\u001b[0m\u001b[0;34m)\u001b[0m\u001b[0;34m)\u001b[0m\u001b[0;34m\u001b[0m\u001b[0;34m\u001b[0m\u001b[0m\n\u001b[0m\u001b[1;32m      3\u001b[0m \u001b[0mprint\u001b[0m\u001b[0;34m(\u001b[0m\u001b[0msubway\u001b[0m\u001b[0;34m)\u001b[0m\u001b[0;34m\u001b[0m\u001b[0;34m\u001b[0m\u001b[0m\n",
            "\u001b[0;31mIndexError\u001b[0m: pop from empty list"
          ]
        }
      ]
    },
    {
      "cell_type": "code",
      "source": [
        "# 같은 이름의 사람이 몇 명 있는지 확인\n",
        "my_subway = [\"유재석\", \"유재석\", \"정형돈\", \"하하\"]\n",
        "print(my_subway)\n",
        "print(my_subway.count(\"유재석\"))"
      ],
      "metadata": {
        "colab": {
          "base_uri": "https://localhost:8080/"
        },
        "id": "eRIikw5O8yO6",
        "outputId": "c26d0602-d3d6-4a85-ae44-683de44c56af"
      },
      "execution_count": 19,
      "outputs": [
        {
          "output_type": "stream",
          "name": "stdout",
          "text": [
            "['유재석', '유재석', '정형돈', '하하']\n",
            "2\n"
          ]
        }
      ]
    },
    {
      "cell_type": "code",
      "source": [
        "# 정렬도 가능\n",
        "num_list = [5, 2, 4, 3, 1]\n",
        "num_list.sort()\n",
        "print(num_list)"
      ],
      "metadata": {
        "colab": {
          "base_uri": "https://localhost:8080/"
        },
        "id": "cLGHW0PK9fKU",
        "outputId": "7c83b64c-91a3-4a56-83ed-6987f31b43cf"
      },
      "execution_count": 20,
      "outputs": [
        {
          "output_type": "stream",
          "name": "stdout",
          "text": [
            "[1, 2, 3, 4, 5]\n"
          ]
        }
      ]
    },
    {
      "cell_type": "code",
      "source": [
        "#순서 뒤집기도 가능\n",
        "num_list.reverse()\n",
        "print(num_list)"
      ],
      "metadata": {
        "colab": {
          "base_uri": "https://localhost:8080/"
        },
        "id": "x1FB2xJ990dl",
        "outputId": "a7a76b45-b445-411b-ec58-60af70eaf225"
      },
      "execution_count": 21,
      "outputs": [
        {
          "output_type": "stream",
          "name": "stdout",
          "text": [
            "[5, 4, 3, 2, 1]\n"
          ]
        }
      ]
    },
    {
      "cell_type": "code",
      "source": [
        "# 값 모두 지우기\n",
        "num_list.clear()\n",
        "print(num_list)"
      ],
      "metadata": {
        "colab": {
          "base_uri": "https://localhost:8080/"
        },
        "id": "byArQJ7A-BEC",
        "outputId": "78655cdf-844d-405e-fe0a-8b60c530c3ce"
      },
      "execution_count": 22,
      "outputs": [
        {
          "output_type": "stream",
          "name": "stdout",
          "text": [
            "[]\n"
          ]
        }
      ]
    },
    {
      "cell_type": "code",
      "source": [
        "# 다양한 자료형 함께 사용 (!!!!)\n",
        "mix_list = [\"조세호\", 20, True]\n",
        "print(mix_list)"
      ],
      "metadata": {
        "colab": {
          "base_uri": "https://localhost:8080/"
        },
        "id": "ZDGcc5iB-KeO",
        "outputId": "dd0c4b6d-f6a4-45dd-9faa-5a28ef4ec1c3"
      },
      "execution_count": 23,
      "outputs": [
        {
          "output_type": "stream",
          "name": "stdout",
          "text": [
            "['조세호', 20, True]\n"
          ]
        }
      ]
    },
    {
      "cell_type": "code",
      "source": [
        "# 리스트 확장(리스트 섞기)\n",
        "num_list = [5, 2, 4, 3, 1]\n",
        "mix_list = [\"조세호\", 20, True]\n",
        "num_list.extend(mix_list)\n",
        "print(num_list)"
      ],
      "metadata": {
        "colab": {
          "base_uri": "https://localhost:8080/"
        },
        "id": "V-aSmaMH-fOA",
        "outputId": "e202dd8f-87b8-491a-bec1-2b8f93a7fcd4"
      },
      "execution_count": 26,
      "outputs": [
        {
          "output_type": "stream",
          "name": "stdout",
          "text": [
            "[5, 2, 4, 3, 1, '조세호', 20, True]\n"
          ]
        }
      ]
    },
    {
      "cell_type": "markdown",
      "source": [
        "### 사전"
      ],
      "metadata": {
        "id": "jYtKb2gW_D4d"
      }
    },
    {
      "cell_type": "markdown",
      "source": [
        "단어가 있고 뜻이 있는 사전처럼 key, value로 나눔.\n",
        "예) 찜질방에서 100번 열쇠 받음. 100번 열쇠로 200번 사물함 열 순 없음. 키는 해당하는 사물함만 열 수 있음.\n",
        "또 키는 중복이 안됨. 내가 100번 열쇠를 받았는데 다른 사람이 100번 열쇠를 받을 순 없음.\n"
      ],
      "metadata": {
        "id": "2axowysRFZF3"
      }
    },
    {
      "cell_type": "code",
      "source": [
        "cabinet = {3:\"유재석\", 100:\"김태호\"} #캐비넷 현재 두명이 사용중, 3번은 유재석 씨가, 100번은 김태호 씨가 사용중\n",
        "print(cabinet[3]) #방법1\n",
        "print(cabinet[100])\n",
        "print(cabinet.get(3)) #방법2"
      ],
      "metadata": {
        "colab": {
          "base_uri": "https://localhost:8080/"
        },
        "id": "tF0eG3kDFrVl",
        "outputId": "4f536c75-2ba0-494f-cbcb-ff76de991dec"
      },
      "execution_count": 35,
      "outputs": [
        {
          "output_type": "stream",
          "name": "stdout",
          "text": [
            "유재석\n",
            "김태호\n",
            "유재석\n"
          ]
        }
      ]
    },
    {
      "cell_type": "code",
      "source": [
        "print(cabinet[5]) \n",
        "print(\"hi\") #그대로 종료"
      ],
      "metadata": {
        "colab": {
          "base_uri": "https://localhost:8080/",
          "height": 190
        },
        "id": "um251hAtGxim",
        "outputId": "8222de09-e3bb-49b7-a2b2-bd662972fc80"
      },
      "execution_count": 34,
      "outputs": [
        {
          "output_type": "error",
          "ename": "KeyError",
          "evalue": "ignored",
          "traceback": [
            "\u001b[0;31m---------------------------------------------------------------------------\u001b[0m",
            "\u001b[0;31mKeyError\u001b[0m                                  Traceback (most recent call last)",
            "\u001b[0;32m<ipython-input-34-25ef3aff91a3>\u001b[0m in \u001b[0;36m<module>\u001b[0;34m()\u001b[0m\n\u001b[0;32m----> 1\u001b[0;31m \u001b[0mprint\u001b[0m\u001b[0;34m(\u001b[0m\u001b[0mcabinet\u001b[0m\u001b[0;34m[\u001b[0m\u001b[0;36m5\u001b[0m\u001b[0;34m]\u001b[0m\u001b[0;34m)\u001b[0m\u001b[0;34m\u001b[0m\u001b[0;34m\u001b[0m\u001b[0m\n\u001b[0m\u001b[1;32m      2\u001b[0m \u001b[0mprint\u001b[0m\u001b[0;34m(\u001b[0m\u001b[0;34m\"hi\"\u001b[0m\u001b[0;34m)\u001b[0m \u001b[0;31m#그대로 종료\u001b[0m\u001b[0;34m\u001b[0m\u001b[0;34m\u001b[0m\u001b[0m\n",
            "\u001b[0;31mKeyError\u001b[0m: 5"
          ]
        }
      ]
    },
    {
      "cell_type": "code",
      "source": [
        "print(cabinet.get(5))\n",
        "print(\"hi\") #none, 출력 가능"
      ],
      "metadata": {
        "colab": {
          "base_uri": "https://localhost:8080/"
        },
        "id": "eSeYWbEFGM1L",
        "outputId": "cb858940-590b-4ed2-bc6e-33cf4e56474d"
      },
      "execution_count": 33,
      "outputs": [
        {
          "output_type": "stream",
          "name": "stdout",
          "text": [
            "None\n",
            "hi\n"
          ]
        }
      ]
    },
    {
      "cell_type": "code",
      "source": [
        "#none말고 기본값을 쓰고 싶을 때\n",
        "print(cabinet.get(5, \"사용가능\")) #없으면 사용가능을 출력해라\n",
        "print(\"hi\") #none, 출력 가능"
      ],
      "metadata": {
        "colab": {
          "base_uri": "https://localhost:8080/"
        },
        "id": "YU_TsFgjHQaW",
        "outputId": "c649f980-478f-41ff-eb77-e630359a8d4b"
      },
      "execution_count": 36,
      "outputs": [
        {
          "output_type": "stream",
          "name": "stdout",
          "text": [
            "사용가능\n",
            "hi\n"
          ]
        }
      ]
    },
    {
      "cell_type": "code",
      "source": [
        "#사전 자료형에 어떤 값이 있는지 확인하는 방법\n",
        "print(3 in cabinet) \n",
        "print(5 in cabinet)"
      ],
      "metadata": {
        "colab": {
          "base_uri": "https://localhost:8080/"
        },
        "id": "A8_vi_OHHd6A",
        "outputId": "9d47e46d-07db-4fe4-d9ba-9954b503b65a"
      },
      "execution_count": 38,
      "outputs": [
        {
          "output_type": "stream",
          "name": "stdout",
          "text": [
            "True\n",
            "False\n"
          ]
        }
      ]
    },
    {
      "cell_type": "code",
      "source": [
        "cabinet = {\"A-3\" : \"유재석\", \"B-100\" : \"김태호\"}\n",
        "print(cabinet[\"A-3\"])\n",
        "print(cabinet.get(\"A-3\"))"
      ],
      "metadata": {
        "colab": {
          "base_uri": "https://localhost:8080/"
        },
        "id": "WziGjCSHH6-c",
        "outputId": "024f9a87-ce76-4df8-99e0-716041b8482f"
      },
      "execution_count": 44,
      "outputs": [
        {
          "output_type": "stream",
          "name": "stdout",
          "text": [
            "유재석\n",
            "유재석\n"
          ]
        }
      ]
    },
    {
      "cell_type": "code",
      "source": [
        "# 새 손님이 온 경우\n",
        "cabinet = {\"A-3\" : \"유재석\", \"B-100\" : \"김태호\"}\n",
        "print(cabinet)\n",
        "cabinet[\"C-20\"] = \"조세호\"\n",
        "cabinet[\"A-3\"] = \"김종국\" #이미 사용중인 키에 새로운 값 추가시 기존 값 대체\n",
        "print(cabinet)"
      ],
      "metadata": {
        "colab": {
          "base_uri": "https://localhost:8080/"
        },
        "id": "bMr1RF_GIoYd",
        "outputId": "c8cbbd9f-3095-44b4-d58e-78fcbb55e842"
      },
      "execution_count": 50,
      "outputs": [
        {
          "output_type": "stream",
          "name": "stdout",
          "text": [
            "{'A-3': '유재석', 'B-100': '김태호'}\n",
            "{'A-3': '김종국', 'B-100': '김태호', 'C-20': '조세호'}\n"
          ]
        }
      ]
    },
    {
      "cell_type": "code",
      "source": [
        "# 간 손님\n",
        "del cabinet[\"A-3\"] # 값 지워짐\n",
        "print(cabinet)"
      ],
      "metadata": {
        "colab": {
          "base_uri": "https://localhost:8080/"
        },
        "id": "vSSEbJ0lNYoU",
        "outputId": "d9d298ef-4bb7-4c87-87a2-4161d6a1ac16"
      },
      "execution_count": 51,
      "outputs": [
        {
          "output_type": "stream",
          "name": "stdout",
          "text": [
            "{'B-100': '김태호', 'C-20': '조세호'}\n"
          ]
        }
      ]
    },
    {
      "cell_type": "code",
      "source": [
        "#key들만 출력\n",
        "print(cabinet.keys())"
      ],
      "metadata": {
        "colab": {
          "base_uri": "https://localhost:8080/"
        },
        "id": "acOU6PMsNifN",
        "outputId": "64ee8243-6471-478e-aa08-fb68319c7f37"
      },
      "execution_count": 52,
      "outputs": [
        {
          "output_type": "stream",
          "name": "stdout",
          "text": [
            "dict_keys(['B-100', 'C-20'])\n"
          ]
        }
      ]
    },
    {
      "cell_type": "code",
      "source": [
        "#value들만 출력\n",
        "print(cabinet.values())"
      ],
      "metadata": {
        "colab": {
          "base_uri": "https://localhost:8080/"
        },
        "id": "nd7B35duNrc9",
        "outputId": "79be82df-4b2b-49c8-e8f7-0c055b019614"
      },
      "execution_count": 53,
      "outputs": [
        {
          "output_type": "stream",
          "name": "stdout",
          "text": [
            "dict_values(['김태호', '조세호'])\n"
          ]
        }
      ]
    },
    {
      "cell_type": "code",
      "source": [
        "#key, value \"쌍\"으로 출력\n",
        "print(cabinet.items())"
      ],
      "metadata": {
        "colab": {
          "base_uri": "https://localhost:8080/"
        },
        "id": "qn0AtnqDNz-W",
        "outputId": "3a4ddc37-bb30-438e-9d20-cdf565ee70b7"
      },
      "execution_count": 54,
      "outputs": [
        {
          "output_type": "stream",
          "name": "stdout",
          "text": [
            "dict_items([('B-100', '김태호'), ('C-20', '조세호')])\n"
          ]
        }
      ]
    },
    {
      "cell_type": "code",
      "source": [
        "# 목욕탕 폐점\n",
        "print(cabinet.clear())"
      ],
      "metadata": {
        "colab": {
          "base_uri": "https://localhost:8080/"
        },
        "id": "tcNpGOELODOT",
        "outputId": "71313531-6c6e-4d08-ca40-8ab631047cb1"
      },
      "execution_count": 55,
      "outputs": [
        {
          "output_type": "stream",
          "name": "stdout",
          "text": [
            "None\n"
          ]
        }
      ]
    },
    {
      "cell_type": "markdown",
      "source": [
        "###튜플()\n"
      ],
      "metadata": {
        "id": "PN-jG03iOOCl"
      }
    },
    {
      "cell_type": "markdown",
      "source": [
        "키, 값이 변경되지 않아 불편하지만 리스트보다 속도가 빠름"
      ],
      "metadata": {
        "id": "0ZMitkvWOU7e"
      }
    },
    {
      "cell_type": "code",
      "source": [
        "menu = (\"돈까스\", \"치즈까스\") #튜플 쓸 때는 괄호\n",
        "print(menu[0])\n",
        "print(menu[1])"
      ],
      "metadata": {
        "colab": {
          "base_uri": "https://localhost:8080/"
        },
        "id": "6b4Xxo9nOZH0",
        "outputId": "9b3cb8c6-5196-41e2-8f1b-af9e5ec5bf94"
      },
      "execution_count": 56,
      "outputs": [
        {
          "output_type": "stream",
          "name": "stdout",
          "text": [
            "돈까스\n",
            "치즈까스\n"
          ]
        }
      ]
    },
    {
      "cell_type": "code",
      "source": [
        "name = \"김종국\"\n",
        "age = 20\n",
        "hobby = \"코딩\"\n",
        "print(name, age, hobby)\n"
      ],
      "metadata": {
        "colab": {
          "base_uri": "https://localhost:8080/"
        },
        "id": "2x8-H-7hPWgD",
        "outputId": "250b7a8a-a0ec-4a71-93ac-f59bad0a5afd"
      },
      "execution_count": 57,
      "outputs": [
        {
          "output_type": "stream",
          "name": "stdout",
          "text": [
            "김종국 20 코딩\n"
          ]
        }
      ]
    },
    {
      "cell_type": "code",
      "source": [
        "(name, age, hobby) = (\"김종국\", 20, \"코딩\") #튜플 이용시 한번에 선언 가능\n",
        "print(name, age, hobby)"
      ],
      "metadata": {
        "colab": {
          "base_uri": "https://localhost:8080/"
        },
        "id": "hfjw1bSCPmBY",
        "outputId": "6e001a8f-2dff-46c0-cacc-dd6deaa6ac1b"
      },
      "execution_count": 59,
      "outputs": [
        {
          "output_type": "stream",
          "name": "stdout",
          "text": [
            "김종국 20 코딩\n"
          ]
        }
      ]
    },
    {
      "cell_type": "markdown",
      "source": [
        "### 세트{}"
      ],
      "metadata": {
        "id": "bhZICm_-P5DE"
      }
    },
    {
      "cell_type": "markdown",
      "source": [
        "집합(set): 중복안됨, 순서 없음."
      ],
      "metadata": {
        "id": "-_N9tv2PQ7Hp"
      }
    },
    {
      "cell_type": "code",
      "source": [
        "my_set = {1,2,3,3,3} #값만 나열\n",
        "print(my_set) #중복 안됨"
      ],
      "metadata": {
        "colab": {
          "base_uri": "https://localhost:8080/"
        },
        "id": "rQyMjIiaQ-ok",
        "outputId": "c9facc79-2fcf-499a-dc65-8dfa2f40d633"
      },
      "execution_count": 60,
      "outputs": [
        {
          "output_type": "stream",
          "name": "stdout",
          "text": [
            "{1, 2, 3}\n"
          ]
        }
      ]
    },
    {
      "cell_type": "code",
      "source": [
        "java = {\"유재석\", \"김태호\", \"양세형\"}\n",
        "python = set([\"유재석\", \"박명수\"])\n",
        "\n",
        "#교집합 출력(자바, 파이썬 모두 할 수 있는 사람)\n",
        "print(java&python)\n",
        "print(java.intersection(python))\n",
        "\n",
        "#합집합 출력 (자바 또는 파이썬 할 수 있는 사람)]\n",
        "print(java|python)\n",
        "print(java.union(python))\n",
        "\n",
        "#차집합 (자바는 할 줄 알지만 파이썬은 못하는 개발자)\n",
        "print(java - python)\n",
        "print(java.difference(python))\n",
        "\n",
        "#python 할 줄 아는 사람이 늘어남\n",
        "python.add(\"김태호\")\n",
        "print(python)\n",
        "\n",
        "#java를 잊었어요\n",
        "java.remove(\"김태호\")\n",
        "print(java)"
      ],
      "metadata": {
        "colab": {
          "base_uri": "https://localhost:8080/"
        },
        "id": "z8gVWz3tRF74",
        "outputId": "7588d91d-f8da-4e90-8091-7d2eee845fa1"
      },
      "execution_count": 68,
      "outputs": [
        {
          "output_type": "stream",
          "name": "stdout",
          "text": [
            "{'유재석'}\n",
            "{'유재석'}\n",
            "{'김태호', '양세형', '박명수', '유재석'}\n",
            "{'김태호', '양세형', '박명수', '유재석'}\n",
            "{'김태호', '양세형'}\n",
            "{'김태호', '양세형'}\n",
            "{'김태호', '박명수', '유재석'}\n",
            "{'양세형', '유재석'}\n"
          ]
        }
      ]
    },
    {
      "cell_type": "markdown",
      "source": [
        "### 자료구조의 변경"
      ],
      "metadata": {
        "id": "IwVYj5E9Sylh"
      }
    },
    {
      "cell_type": "code",
      "source": [
        "#커피숍\n",
        "menu = {\"커피\", \"우유\", \"주스\"}\n",
        "print(menu, type(menu))\n",
        "\n",
        "menu = list(menu) #[]\n",
        "print(menu, type(menu))\n",
        "\n",
        "menu = tuple(menu) #()\n",
        "print(menu, type(menu))\n",
        "\n",
        "menu = set(menu)\n",
        "print(menu, type(menu))"
      ],
      "metadata": {
        "colab": {
          "base_uri": "https://localhost:8080/"
        },
        "id": "c8eAPX86RTAi",
        "outputId": "73e20c61-ff5b-4daa-d3bf-1610b718436f"
      },
      "execution_count": 75,
      "outputs": [
        {
          "output_type": "stream",
          "name": "stdout",
          "text": [
            "{'주스', '커피', '우유'} <class 'set'>\n",
            "['주스', '커피', '우유'] <class 'list'>\n",
            "('주스', '커피', '우유') <class 'tuple'>\n",
            "{'주스', '커피', '우유'} <class 'set'>\n"
          ]
        }
      ]
    },
    {
      "cell_type": "markdown",
      "source": [
        "### 퀴즈"
      ],
      "metadata": {
        "id": "SfeEnznNT0Sc"
      }
    },
    {
      "cell_type": "markdown",
      "source": [
        "댓글 이벤트. 1명 치킨 3명 커피쿠폰. 추첨 프로그램 작성하세요\n",
        "\n",
        "조건1: 20명이 댓글 작성. 아이디는 1~20\n",
        "조건2: 무작위 추첨, 중복 불가\n",
        "조건3: random 모듈의 shuffle과 sample 사용\n"
      ],
      "metadata": {
        "id": "NoJpvzxAUD1c"
      }
    },
    {
      "cell_type": "code",
      "source": [
        "# 내 풀이\n",
        "from random import *\n",
        "comment = [1, 2, 3, 4, 5, 6, 7, 8, 9, 10, 11, 12, 13, 14, 15, 16, 17, 18, 19, 20]\n",
        "shuffle(comment)\n",
        "sample(comment, 4)\n",
        "winner = sample(comment, 1)\n",
        "other = sample(comment, 3)\n",
        "print(f\" -- 당첨자 발표 -- \\n치킨 당첨자 {winner}: \\n커피 당첨자 : {other} \\n -- 축하합니다. --\")"
      ],
      "metadata": {
        "colab": {
          "base_uri": "https://localhost:8080/"
        },
        "id": "vg5MrFgiUXPY",
        "outputId": "c32f65b4-6cc9-4592-af6b-f48d0e2cac69"
      },
      "execution_count": 87,
      "outputs": [
        {
          "output_type": "stream",
          "name": "stdout",
          "text": [
            " -- 당첨자 발표 -- \n",
            "치킨 당첨자 [16]: \n",
            "커피 당첨자 : [20, 18, 8] \n",
            " -- 축하합니다. --\n"
          ]
        }
      ]
    },
    {
      "cell_type": "code",
      "source": [
        "from random import *\n",
        "users = range(1, 21) #1부터 20까지 숫자를 생성\n",
        "#print(type(users))\n",
        "users = list(users)\n",
        "#print(type(users))\n",
        "#print(users)\n",
        "#shuffle(users)\n",
        "#print(users)\n",
        "\n",
        "winners = sample(users, 4)\n",
        "print(\"-- 당첨자 발표 --\") \n",
        "print(\"치킨 당첨자 {0}:\".format(winners[0])) \n",
        "print(\"커피 당첨자 : {0}\".format(winners[1:])) \n",
        "print(\" -- 축하합니다. --\")"
      ],
      "metadata": {
        "colab": {
          "base_uri": "https://localhost:8080/"
        },
        "id": "pxuzQPC_XxK9",
        "outputId": "637ac2e1-3a55-4875-cade-009c45411e29"
      },
      "execution_count": 91,
      "outputs": [
        {
          "output_type": "stream",
          "name": "stdout",
          "text": [
            "-- 당첨자 발표 --\n",
            "치킨 당첨자 13:\n",
            "커피 당첨자 : [10, 17, 19]\n",
            " -- 축하합니다. --\n"
          ]
        }
      ]
    }
  ]
}